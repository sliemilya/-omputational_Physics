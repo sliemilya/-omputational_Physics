{
  "nbformat": 4,
  "nbformat_minor": 0,
  "metadata": {
    "colab": {
      "name": "100_numpy_exercise_Ilya_Golubev.ipynb",
      "provenance": [],
      "collapsed_sections": []
    },
    "kernelspec": {
      "name": "python3",
      "display_name": "Python 3"
    },
    "language_info": {
      "name": "python"
    }
  },
  "cells": [
    {
      "cell_type": "code",
      "source": [
        "#100 numpy exercise\n",
        "#by Golubev Ilya"
      ],
      "metadata": {
        "id": "6X1-Gng90giq"
      },
      "execution_count": 614,
      "outputs": []
    },
    {
      "cell_type": "code",
      "execution_count": 516,
      "metadata": {
        "id": "wCJkGvtOy3mm"
      },
      "outputs": [],
      "source": [
        "#1\n",
        "#Import the numpy package under the name np\n",
        "import numpy as np \n"
      ]
    },
    {
      "cell_type": "code",
      "source": [
        "#2\n",
        "#Print the numpy version and the configuration\n",
        "print(np.__version__)\n",
        "np.show_config()\n"
      ],
      "metadata": {
        "colab": {
          "base_uri": "https://localhost:8080/"
        },
        "id": "XE11E43ozQ9w",
        "outputId": "d57a518d-57a7-4c7b-96d0-cc0d6aee5027"
      },
      "execution_count": 517,
      "outputs": [
        {
          "output_type": "stream",
          "name": "stdout",
          "text": [
            "1.19.5\n",
            "blas_mkl_info:\n",
            "  NOT AVAILABLE\n",
            "blis_info:\n",
            "  NOT AVAILABLE\n",
            "openblas_info:\n",
            "    libraries = ['openblas', 'openblas']\n",
            "    library_dirs = ['/usr/local/lib']\n",
            "    language = c\n",
            "    define_macros = [('HAVE_CBLAS', None)]\n",
            "blas_opt_info:\n",
            "    libraries = ['openblas', 'openblas']\n",
            "    library_dirs = ['/usr/local/lib']\n",
            "    language = c\n",
            "    define_macros = [('HAVE_CBLAS', None)]\n",
            "lapack_mkl_info:\n",
            "  NOT AVAILABLE\n",
            "openblas_lapack_info:\n",
            "    libraries = ['openblas', 'openblas']\n",
            "    library_dirs = ['/usr/local/lib']\n",
            "    language = c\n",
            "    define_macros = [('HAVE_CBLAS', None)]\n",
            "lapack_opt_info:\n",
            "    libraries = ['openblas', 'openblas']\n",
            "    library_dirs = ['/usr/local/lib']\n",
            "    language = c\n",
            "    define_macros = [('HAVE_CBLAS', None)]\n"
          ]
        }
      ]
    },
    {
      "cell_type": "code",
      "source": [
        "#3\n",
        "#Create a null vector of size 10\n",
        "print(np.zeros(10))"
      ],
      "metadata": {
        "colab": {
          "base_uri": "https://localhost:8080/"
        },
        "id": "N7ksQlfHzXm-",
        "outputId": "88e2faa8-0cd9-40a2-b48d-7bc72e90419b"
      },
      "execution_count": 518,
      "outputs": [
        {
          "output_type": "stream",
          "name": "stdout",
          "text": [
            "[0. 0. 0. 0. 0. 0. 0. 0. 0. 0.]\n"
          ]
        }
      ]
    },
    {
      "cell_type": "code",
      "source": [
        "#4\n",
        "#How to find the memory size of any array\n",
        "print(\"%d bytes\" % (np.zeros((10)).size * np.zeros((10)).itemsize))"
      ],
      "metadata": {
        "colab": {
          "base_uri": "https://localhost:8080/"
        },
        "id": "xCf-n3S0z2FC",
        "outputId": "3071afe5-6668-4417-efc1-7fd9be82d287"
      },
      "execution_count": 519,
      "outputs": [
        {
          "output_type": "stream",
          "name": "stdout",
          "text": [
            "80 bytes\n"
          ]
        }
      ]
    },
    {
      "cell_type": "code",
      "source": [
        "#5\n",
        "# How to get the documentation of the numpy add function from the command line?\n",
        "np.info(np.add)"
      ],
      "metadata": {
        "id": "xn2MJqs90EKX"
      },
      "execution_count": 520,
      "outputs": []
    },
    {
      "cell_type": "code",
      "source": [
        "#6\n",
        "#Create a null vector of size 10 but the fifth value which is 1\n",
        "A = np.zeros(10)\n",
        "A[4] = 1\n",
        "print(A)\n"
      ],
      "metadata": {
        "colab": {
          "base_uri": "https://localhost:8080/"
        },
        "id": "NEEJ8y670JJM",
        "outputId": "9e008bf1-752b-4ffe-9b74-091f6ce42274"
      },
      "execution_count": 521,
      "outputs": [
        {
          "output_type": "stream",
          "name": "stdout",
          "text": [
            "[0. 0. 0. 0. 1. 0. 0. 0. 0. 0.]\n"
          ]
        }
      ]
    },
    {
      "cell_type": "code",
      "source": [
        "#7\n",
        "# Create a vector with values ranging from 10 to 49\n",
        "print(np.arange(10,50))"
      ],
      "metadata": {
        "colab": {
          "base_uri": "https://localhost:8080/"
        },
        "id": "yQfYwl3x0Oc6",
        "outputId": "a4ab5018-df21-43c9-c5bb-4e2e110b3be3"
      },
      "execution_count": 522,
      "outputs": [
        {
          "output_type": "stream",
          "name": "stdout",
          "text": [
            "[10 11 12 13 14 15 16 17 18 19 20 21 22 23 24 25 26 27 28 29 30 31 32 33\n",
            " 34 35 36 37 38 39 40 41 42 43 44 45 46 47 48 49]\n"
          ]
        }
      ]
    },
    {
      "cell_type": "code",
      "source": [
        "#8\n",
        "# Reverse a vector (first element becomes last)\n",
        "A = np.arange(50)\n",
        "A = A[::-1]\n",
        "print(A)"
      ],
      "metadata": {
        "colab": {
          "base_uri": "https://localhost:8080/"
        },
        "id": "-BpAqdmR0OiX",
        "outputId": "a5a59145-ba46-4ddb-ae1f-36d73aa5211c"
      },
      "execution_count": 523,
      "outputs": [
        {
          "output_type": "stream",
          "name": "stdout",
          "text": [
            "[49 48 47 46 45 44 43 42 41 40 39 38 37 36 35 34 33 32 31 30 29 28 27 26\n",
            " 25 24 23 22 21 20 19 18 17 16 15 14 13 12 11 10  9  8  7  6  5  4  3  2\n",
            "  1  0]\n"
          ]
        }
      ]
    },
    {
      "cell_type": "code",
      "source": [
        "#9\n",
        "#Create a 3x3 matrix with values ranging from 0 to 8\n",
        "print(np.arange(9).reshape(3, 3))"
      ],
      "metadata": {
        "colab": {
          "base_uri": "https://localhost:8080/"
        },
        "id": "TS9IMzYZ0R--",
        "outputId": "c6f451bc-7c69-4151-ca0e-e22a634bd397"
      },
      "execution_count": 524,
      "outputs": [
        {
          "output_type": "stream",
          "name": "stdout",
          "text": [
            "[[0 1 2]\n",
            " [3 4 5]\n",
            " [6 7 8]]\n"
          ]
        }
      ]
    },
    {
      "cell_type": "code",
      "source": [
        "#10\n",
        "#Find indices of non-zero elements from [1,2,0,0,4,0]\n",
        "print(np.nonzero([1,2,0,0,4,0]))"
      ],
      "metadata": {
        "colab": {
          "base_uri": "https://localhost:8080/"
        },
        "id": "dmlWeoqd0TSZ",
        "outputId": "df46ae27-6592-4c6f-a9b5-bbf7f77af71c"
      },
      "execution_count": 525,
      "outputs": [
        {
          "output_type": "stream",
          "name": "stdout",
          "text": [
            "(array([0, 1, 4]),)\n"
          ]
        }
      ]
    },
    {
      "cell_type": "code",
      "source": [
        "#11\n",
        "#Create a 3x3 identity matrix\n",
        "print(np.eye(3))"
      ],
      "metadata": {
        "colab": {
          "base_uri": "https://localhost:8080/"
        },
        "id": "ieERoUMR0UAi",
        "outputId": "e9d33a14-a21f-4769-f4f9-206cd6bb3200"
      },
      "execution_count": 526,
      "outputs": [
        {
          "output_type": "stream",
          "name": "stdout",
          "text": [
            "[[1. 0. 0.]\n",
            " [0. 1. 0.]\n",
            " [0. 0. 1.]]\n"
          ]
        }
      ]
    },
    {
      "cell_type": "code",
      "source": [
        "#12\n",
        "#Create a 3x3x3 array with random values\n",
        "print(np.random.random((3,3,3)))"
      ],
      "metadata": {
        "colab": {
          "base_uri": "https://localhost:8080/"
        },
        "id": "rleNFkuf0U0O",
        "outputId": "defc095a-afb4-41a7-c0d5-770495753260"
      },
      "execution_count": 527,
      "outputs": [
        {
          "output_type": "stream",
          "name": "stdout",
          "text": [
            "[[[0.63668545 0.14492115 0.44396308]\n",
            "  [0.96964641 0.5950581  0.32203427]\n",
            "  [0.36509843 0.52866272 0.77479813]]\n",
            "\n",
            " [[0.64117142 0.1832511  0.5086347 ]\n",
            "  [0.64865387 0.4700706  0.8521391 ]\n",
            "  [0.95558144 0.3780524  0.97965462]]\n",
            "\n",
            " [[0.98453482 0.25165116 0.08960057]\n",
            "  [0.38067531 0.03822424 0.86701266]\n",
            "  [0.7132265  0.94711983 0.33785834]]]\n"
          ]
        }
      ]
    },
    {
      "cell_type": "code",
      "source": [
        "#13\n",
        "#Create a 10x10 array with random values and find the minimum and maximum values\n",
        "A = np.random.random((10,10))\n",
        "print(A.min(), A.min())"
      ],
      "metadata": {
        "colab": {
          "base_uri": "https://localhost:8080/"
        },
        "id": "-Ij43ZAu0VlX",
        "outputId": "c8469b91-7158-45e9-dd9c-9fddbed90b4b"
      },
      "execution_count": 528,
      "outputs": [
        {
          "output_type": "stream",
          "name": "stdout",
          "text": [
            "0.01263399963886458 0.01263399963886458\n"
          ]
        }
      ]
    },
    {
      "cell_type": "code",
      "source": [
        "#14\n",
        "#Create a random vector of size 30 and find the mean value\n",
        "print(np.random.random(30).mean())"
      ],
      "metadata": {
        "colab": {
          "base_uri": "https://localhost:8080/"
        },
        "id": "1t-8zCuK0WQU",
        "outputId": "72b4d98c-0aeb-4d9b-821f-f34f1c2e1227"
      },
      "execution_count": 529,
      "outputs": [
        {
          "output_type": "stream",
          "name": "stdout",
          "text": [
            "0.3884792321537862\n"
          ]
        }
      ]
    },
    {
      "cell_type": "code",
      "source": [
        "#15\n",
        "#Create a 2d array with 1 on the border and 0 inside\n",
        "A = np.ones((10,10))\n",
        "A[1:-1,1:-1] = 0\n",
        "print(A)"
      ],
      "metadata": {
        "colab": {
          "base_uri": "https://localhost:8080/"
        },
        "id": "vDIg-M6e0W28",
        "outputId": "82b95074-9640-479e-bc44-e321fc2a0f69"
      },
      "execution_count": 530,
      "outputs": [
        {
          "output_type": "stream",
          "name": "stdout",
          "text": [
            "[[1. 1. 1. 1. 1. 1. 1. 1. 1. 1.]\n",
            " [1. 0. 0. 0. 0. 0. 0. 0. 0. 1.]\n",
            " [1. 0. 0. 0. 0. 0. 0. 0. 0. 1.]\n",
            " [1. 0. 0. 0. 0. 0. 0. 0. 0. 1.]\n",
            " [1. 0. 0. 0. 0. 0. 0. 0. 0. 1.]\n",
            " [1. 0. 0. 0. 0. 0. 0. 0. 0. 1.]\n",
            " [1. 0. 0. 0. 0. 0. 0. 0. 0. 1.]\n",
            " [1. 0. 0. 0. 0. 0. 0. 0. 0. 1.]\n",
            " [1. 0. 0. 0. 0. 0. 0. 0. 0. 1.]\n",
            " [1. 1. 1. 1. 1. 1. 1. 1. 1. 1.]]\n"
          ]
        }
      ]
    },
    {
      "cell_type": "code",
      "source": [
        "#16\n",
        "#How to add a border (filled with 0's) around an existing array?\n",
        "A = np.pad(np.ones((5,5)), pad_width=1, mode='constant', constant_values=0)\n",
        "print(A)\n",
        "A[:, [0, -1]] = 0\n",
        "A[[0, -1], :] = 0\n",
        "print(A)"
      ],
      "metadata": {
        "colab": {
          "base_uri": "https://localhost:8080/"
        },
        "id": "PHtM4gpp0Xc6",
        "outputId": "63289b20-3aee-4426-cf11-46bce04d2ed9"
      },
      "execution_count": 531,
      "outputs": [
        {
          "output_type": "stream",
          "name": "stdout",
          "text": [
            "[[0. 0. 0. 0. 0. 0. 0.]\n",
            " [0. 1. 1. 1. 1. 1. 0.]\n",
            " [0. 1. 1. 1. 1. 1. 0.]\n",
            " [0. 1. 1. 1. 1. 1. 0.]\n",
            " [0. 1. 1. 1. 1. 1. 0.]\n",
            " [0. 1. 1. 1. 1. 1. 0.]\n",
            " [0. 0. 0. 0. 0. 0. 0.]]\n",
            "[[0. 0. 0. 0. 0. 0. 0.]\n",
            " [0. 1. 1. 1. 1. 1. 0.]\n",
            " [0. 1. 1. 1. 1. 1. 0.]\n",
            " [0. 1. 1. 1. 1. 1. 0.]\n",
            " [0. 1. 1. 1. 1. 1. 0.]\n",
            " [0. 1. 1. 1. 1. 1. 0.]\n",
            " [0. 0. 0. 0. 0. 0. 0.]]\n"
          ]
        }
      ]
    },
    {
      "cell_type": "code",
      "source": [
        "#17\n",
        "#What is the result of the following expression?\n",
        "print(0 * np.nan)\n",
        "print(np.nan == np.nan)\n",
        "print(np.inf > np.nan)\n",
        "print(np.nan - np.nan)\n",
        "print(np.nan in set([np.nan]))\n",
        "print(0.3 == 3 * 0.1)"
      ],
      "metadata": {
        "colab": {
          "base_uri": "https://localhost:8080/"
        },
        "id": "fWitdCe40YHz",
        "outputId": "86522296-9ce0-41a4-8828-7f1cf8bbbfc7"
      },
      "execution_count": 532,
      "outputs": [
        {
          "output_type": "stream",
          "name": "stdout",
          "text": [
            "nan\n",
            "False\n",
            "False\n",
            "nan\n",
            "True\n",
            "False\n"
          ]
        }
      ]
    },
    {
      "cell_type": "code",
      "source": [
        "#18\n",
        "#Create a 5x5 matrix with values 1,2,3,4 just below the diagonal\n",
        "print(np.diag(1+np.arange(4),k=-1))"
      ],
      "metadata": {
        "colab": {
          "base_uri": "https://localhost:8080/"
        },
        "id": "2YUPMlv-0Y9D",
        "outputId": "40b77a69-a8ce-4782-b7c9-64e56deaab6c"
      },
      "execution_count": 533,
      "outputs": [
        {
          "output_type": "stream",
          "name": "stdout",
          "text": [
            "[[0 0 0 0 0]\n",
            " [1 0 0 0 0]\n",
            " [0 2 0 0 0]\n",
            " [0 0 3 0 0]\n",
            " [0 0 0 4 0]]\n"
          ]
        }
      ]
    },
    {
      "cell_type": "code",
      "source": [
        "#19\n",
        "#Create a 8x8 matrix and fill it with a checkerboard pattern\n",
        "A = np.zeros((8,8),dtype=int)\n",
        "A[1::2,::2] = 1\n",
        "A[::2,1::2] = 1\n",
        "print(A)"
      ],
      "metadata": {
        "colab": {
          "base_uri": "https://localhost:8080/"
        },
        "id": "YILXU4RW0ZhW",
        "outputId": "b58e0fae-d71f-444a-860f-a95ed90e2f16"
      },
      "execution_count": 534,
      "outputs": [
        {
          "output_type": "stream",
          "name": "stdout",
          "text": [
            "[[0 1 0 1 0 1 0 1]\n",
            " [1 0 1 0 1 0 1 0]\n",
            " [0 1 0 1 0 1 0 1]\n",
            " [1 0 1 0 1 0 1 0]\n",
            " [0 1 0 1 0 1 0 1]\n",
            " [1 0 1 0 1 0 1 0]\n",
            " [0 1 0 1 0 1 0 1]\n",
            " [1 0 1 0 1 0 1 0]]\n"
          ]
        }
      ]
    },
    {
      "cell_type": "code",
      "source": [
        "#20\n",
        "#Consider a (6,7,8) shape array, what is the index (x,y,z) of the 100th element?\n",
        "print(np.unravel_index(100,(6,7,8)))"
      ],
      "metadata": {
        "colab": {
          "base_uri": "https://localhost:8080/"
        },
        "id": "P0MNhzJ00aH2",
        "outputId": "9ec61ca1-a2d8-4c88-9083-9bd1249bc571"
      },
      "execution_count": 535,
      "outputs": [
        {
          "output_type": "stream",
          "name": "stdout",
          "text": [
            "(1, 5, 4)\n"
          ]
        }
      ]
    },
    {
      "cell_type": "code",
      "source": [
        "#21\n",
        "#Create a checkerboard 8x8 matrix using the tile function\n",
        "A = np.tile( np.array([[0,1],[1,0]]), (4,4))\n",
        "print(A)"
      ],
      "metadata": {
        "colab": {
          "base_uri": "https://localhost:8080/"
        },
        "id": "YCLaT7BG4CKr",
        "outputId": "9e85c58c-d64c-4eb5-9f1e-1a12b233b184"
      },
      "execution_count": 536,
      "outputs": [
        {
          "output_type": "stream",
          "name": "stdout",
          "text": [
            "[[0 1 0 1 0 1 0 1]\n",
            " [1 0 1 0 1 0 1 0]\n",
            " [0 1 0 1 0 1 0 1]\n",
            " [1 0 1 0 1 0 1 0]\n",
            " [0 1 0 1 0 1 0 1]\n",
            " [1 0 1 0 1 0 1 0]\n",
            " [0 1 0 1 0 1 0 1]\n",
            " [1 0 1 0 1 0 1 0]]\n"
          ]
        }
      ]
    },
    {
      "cell_type": "code",
      "source": [
        "#22\n",
        "#Normalize a 5x5 random matrix\n",
        "A= np.random.random((5,5))\n",
        "Amax = A.max()\n",
        "Amin = A.min()\n",
        "A = (A - xmin)/(xmax - xmin)\n",
        "print(A)"
      ],
      "metadata": {
        "colab": {
          "base_uri": "https://localhost:8080/"
        },
        "id": "Wc09gHOl4CZH",
        "outputId": "4ca00ab1-5dfe-4284-e332-860a469fcc38"
      },
      "execution_count": 537,
      "outputs": [
        {
          "output_type": "stream",
          "name": "stdout",
          "text": [
            "[[0.77304009 0.45356066 0.73286461 0.15472221 0.40315846]\n",
            " [0.66458035 0.2391287  0.92393601 0.20577046 0.27914276]\n",
            " [0.9779742  0.63836615 0.66731972 0.7952339  0.43369532]\n",
            " [0.25248493 0.73609211 0.35211926 0.32884184 0.64360066]\n",
            " [0.06000799 0.86027898 0.03258818 0.46667466 0.23500555]]\n"
          ]
        }
      ]
    },
    {
      "cell_type": "code",
      "source": [
        "#23\n",
        "#Create a custom dtype that describes a color as four unsigned bytes (RGBA)\n",
        "print(np.dtype([(\"r\", np.ubyte, 1), (\"g\", np.ubyte, 1), (\"b\", np.ubyte, 1), (\"a\", np.ubyte, 1)]))"
      ],
      "metadata": {
        "colab": {
          "base_uri": "https://localhost:8080/"
        },
        "id": "K3tANgcU4CkX",
        "outputId": "bcb1a6f0-f113-464c-9784-e9eb3e1ce084"
      },
      "execution_count": 538,
      "outputs": [
        {
          "output_type": "stream",
          "name": "stdout",
          "text": [
            "[('r', 'u1'), ('g', 'u1'), ('b', 'u1'), ('a', 'u1')]\n"
          ]
        },
        {
          "output_type": "stream",
          "name": "stderr",
          "text": [
            "/usr/local/lib/python3.7/dist-packages/ipykernel_launcher.py:3: FutureWarning: Passing (type, 1) or '1type' as a synonym of type is deprecated; in a future version of numpy, it will be understood as (type, (1,)) / '(1,)type'.\n",
            "  This is separate from the ipykernel package so we can avoid doing imports until\n"
          ]
        }
      ]
    },
    {
      "cell_type": "code",
      "source": [
        "#24\n",
        "#Multiply a 5x3 matrix by a 3x2 matrix (real matrix product)\n",
        "A = np.random.random((5,3))\n",
        "B = np.random.random((3,2))\n",
        "print(np.dot(A, B))"
      ],
      "metadata": {
        "colab": {
          "base_uri": "https://localhost:8080/"
        },
        "id": "4jruLXF04CrS",
        "outputId": "4a383370-3ae0-43e9-f7eb-90c2761a99d7"
      },
      "execution_count": 539,
      "outputs": [
        {
          "output_type": "stream",
          "name": "stdout",
          "text": [
            "[[1.79573359 0.68937425]\n",
            " [1.20132121 0.7287269 ]\n",
            " [0.59042313 0.25621065]\n",
            " [1.98790932 0.98049882]\n",
            " [1.0533652  0.50521457]]\n"
          ]
        }
      ]
    },
    {
      "cell_type": "code",
      "source": [
        "#25\n",
        "#Given a 1D array, negate all elements which are between 3 and 8, in place.\n",
        "A = np.arange(11)\n",
        "A[(3 < A) & (A < 8)] *= -1\n",
        "print(A)"
      ],
      "metadata": {
        "colab": {
          "base_uri": "https://localhost:8080/"
        },
        "id": "SLrjnYbU4Cx2",
        "outputId": "03d5234b-5d2d-4e9d-cab9-ad4d7e7069fa"
      },
      "execution_count": 540,
      "outputs": [
        {
          "output_type": "stream",
          "name": "stdout",
          "text": [
            "[ 0  1  2  3 -4 -5 -6 -7  8  9 10]\n"
          ]
        }
      ]
    },
    {
      "cell_type": "code",
      "source": [
        "#26\n",
        "#What is the output of the following script?\n",
        "from numpy import *\n",
        "print(sum(range(5),-1))"
      ],
      "metadata": {
        "colab": {
          "base_uri": "https://localhost:8080/"
        },
        "id": "qvoCCVaT4C1E",
        "outputId": "ab6bfd06-6d09-406e-eac9-17c75a443bc1"
      },
      "execution_count": 541,
      "outputs": [
        {
          "output_type": "stream",
          "name": "stdout",
          "text": [
            "10\n"
          ]
        }
      ]
    },
    {
      "cell_type": "code",
      "source": [
        "#27\n",
        "# Consider an integer vector Z, which of these expressions are legal?\n",
        "Z = np.array([1,23,3],dtype=int)\n",
        "print(Z ** Z)\n",
        "print(2 << Z >>2)\n",
        "print(Z < -Z)\n",
        "print(1j*Z)\n",
        "print(Z/1/1)"
      ],
      "metadata": {
        "colab": {
          "base_uri": "https://localhost:8080/"
        },
        "id": "Bk0EaS3o4C4d",
        "outputId": "8ba5f2d1-61d3-432d-b3dd-866b1f1a43a9"
      },
      "execution_count": 542,
      "outputs": [
        {
          "output_type": "stream",
          "name": "stdout",
          "text": [
            "[                  1 8450172506621111015                  27]\n",
            "[      1 4194304       4]\n",
            "[False False False]\n",
            "[0. +1.j 0.+23.j 0. +3.j]\n",
            "[ 1. 23.  3.]\n"
          ]
        }
      ]
    },
    {
      "cell_type": "code",
      "source": [
        "#28\n",
        "#What are the result of the following expressions\n",
        "print(np.array(0) / np.array(0))\n",
        "print(np.array(0) // np.array(0))\n",
        "print(np.array([np.nan]).astype(int).astype(float))"
      ],
      "metadata": {
        "colab": {
          "base_uri": "https://localhost:8080/"
        },
        "id": "8JcrujsZ4C7J",
        "outputId": "3d4486a0-7cb1-4d5e-bc6a-d5e280a1b973"
      },
      "execution_count": 543,
      "outputs": [
        {
          "output_type": "stream",
          "name": "stdout",
          "text": [
            "nan\n",
            "0\n",
            "[-9.22337204e+18]\n"
          ]
        }
      ]
    },
    {
      "cell_type": "code",
      "source": [
        "#29\n",
        "#How to round away from zero a float array ?\n",
        "A = np.random.uniform(-10,+10,10)\n",
        "print(np.copysign(np.ceil(np.abs(A)), A))\n"
      ],
      "metadata": {
        "colab": {
          "base_uri": "https://localhost:8080/"
        },
        "id": "tnzJyUJ34C9R",
        "outputId": "62d818f3-dd6e-4bad-e2b7-19ce05085620"
      },
      "execution_count": 544,
      "outputs": [
        {
          "output_type": "stream",
          "name": "stdout",
          "text": [
            "[ -6. -10.   3.   6.  -9.   5. -10.   5.  10.  -3.]\n"
          ]
        }
      ]
    },
    {
      "cell_type": "code",
      "source": [
        "#30\n",
        "#How to find common values between two arrays?\n",
        "A = np.random.randint(0,10,10)\n",
        "B = np.random.randint(0,10,10)\n",
        "print(np.intersect1d(A,B)) "
      ],
      "metadata": {
        "colab": {
          "base_uri": "https://localhost:8080/"
        },
        "id": "sohfeW_w4C_p",
        "outputId": "622f15c0-b779-433d-ac0e-8e99ac40fc4f"
      },
      "execution_count": 545,
      "outputs": [
        {
          "output_type": "stream",
          "name": "stdout",
          "text": [
            "[1 2 7 9]\n"
          ]
        }
      ]
    },
    {
      "cell_type": "code",
      "source": [
        "#31\n",
        "#How to ignore all numpy warnings (not recommended)?\n",
        "defaults = np.seterr(all=\"ignore\")"
      ],
      "metadata": {
        "id": "OCUuKrqC4DBy"
      },
      "execution_count": 546,
      "outputs": []
    },
    {
      "cell_type": "code",
      "source": [
        "#32\n",
        "#Is the following expressions true?\n",
        "np.sqrt(-1) == np.emath.sqrt(-1)"
      ],
      "metadata": {
        "colab": {
          "base_uri": "https://localhost:8080/"
        },
        "id": "2dxZX2gD4DEe",
        "outputId": "ae3430e1-e333-4455-cead-8bab36d62843"
      },
      "execution_count": 547,
      "outputs": [
        {
          "output_type": "execute_result",
          "data": {
            "text/plain": [
              "False"
            ]
          },
          "metadata": {},
          "execution_count": 547
        }
      ]
    },
    {
      "cell_type": "code",
      "source": [
        "#33\n",
        "#How to get the dates of yesterday, today and tomorrow?\n",
        "yesterday = np.datetime64('today') - np.timedelta64(1)\n",
        "today     = np.datetime64('today')\n",
        "tomorrow  = np.datetime64('today') + np.timedelta64(1)\n",
        "print(yesterday)\n",
        "print(today)\n",
        "print(tomorrow)"
      ],
      "metadata": {
        "colab": {
          "base_uri": "https://localhost:8080/"
        },
        "id": "zxeZjynP4DGp",
        "outputId": "bb9bc1f0-b479-4fba-aa36-1cc10cbab327"
      },
      "execution_count": 548,
      "outputs": [
        {
          "output_type": "stream",
          "name": "stdout",
          "text": [
            "2021-12-07\n",
            "2021-12-08\n",
            "2021-12-09\n"
          ]
        }
      ]
    },
    {
      "cell_type": "code",
      "source": [
        "#34\n",
        "#How to get all the dates corresponding to the month of July 2016?\n",
        "print(np.arange('2016-07', '2016-08', dtype='datetime64[D]'))"
      ],
      "metadata": {
        "colab": {
          "base_uri": "https://localhost:8080/"
        },
        "id": "FM85THo34DI2",
        "outputId": "718035dc-4397-43eb-a95c-b6eba44116da"
      },
      "execution_count": 549,
      "outputs": [
        {
          "output_type": "stream",
          "name": "stdout",
          "text": [
            "['2016-07-01' '2016-07-02' '2016-07-03' '2016-07-04' '2016-07-05'\n",
            " '2016-07-06' '2016-07-07' '2016-07-08' '2016-07-09' '2016-07-10'\n",
            " '2016-07-11' '2016-07-12' '2016-07-13' '2016-07-14' '2016-07-15'\n",
            " '2016-07-16' '2016-07-17' '2016-07-18' '2016-07-19' '2016-07-20'\n",
            " '2016-07-21' '2016-07-22' '2016-07-23' '2016-07-24' '2016-07-25'\n",
            " '2016-07-26' '2016-07-27' '2016-07-28' '2016-07-29' '2016-07-30'\n",
            " '2016-07-31']\n"
          ]
        }
      ]
    },
    {
      "cell_type": "code",
      "source": [
        "#35\n",
        "#How to compute ((A+B)*(-A/2)) in place (without copy)?\n",
        "A = np.ones(3)*1\n",
        "B = np.ones(3)*2\n",
        "np.add(A,B,out=B)\n",
        "np.divide(A,2,out=A)\n",
        "np.negative(A,out=A)\n",
        "np.multiply(A,B,out=A)"
      ],
      "metadata": {
        "colab": {
          "base_uri": "https://localhost:8080/"
        },
        "id": "0AkoSBJG4DLb",
        "outputId": "9b7f1dd2-fb66-4f01-8929-08349f58868d"
      },
      "execution_count": 550,
      "outputs": [
        {
          "output_type": "execute_result",
          "data": {
            "text/plain": [
              "array([-1.5, -1.5, -1.5])"
            ]
          },
          "metadata": {},
          "execution_count": 550
        }
      ]
    },
    {
      "cell_type": "code",
      "source": [
        "#36\n",
        "#Extract the integer part of a random array of positive numbers using 4 different methods\n",
        "A= np.random.uniform(0,10,10)\n",
        "print(A - A%1)\n",
        "print(A // 1)\n",
        "print(np.floor(A))\n",
        "print(A.astype(int))\n",
        "print(np.trunc(A))"
      ],
      "metadata": {
        "colab": {
          "base_uri": "https://localhost:8080/"
        },
        "id": "LcQhuyvv4DN9",
        "outputId": "4af6e631-785d-475b-cbdd-b64b6fa93af2"
      },
      "execution_count": 551,
      "outputs": [
        {
          "output_type": "stream",
          "name": "stdout",
          "text": [
            "[9. 1. 7. 4. 5. 7. 5. 2. 4. 6.]\n",
            "[9. 1. 7. 4. 5. 7. 5. 2. 4. 6.]\n",
            "[9. 1. 7. 4. 5. 7. 5. 2. 4. 6.]\n",
            "[9 1 7 4 5 7 5 2 4 6]\n",
            "[9. 1. 7. 4. 5. 7. 5. 2. 4. 6.]\n"
          ]
        }
      ]
    },
    {
      "cell_type": "code",
      "source": [
        "#37\n",
        "#Create a 5x5 matrix with row values ranging from 0 to 4\n",
        "A = np.zeros((5,5))\n",
        "A += np.arange(5)\n",
        "print(A)"
      ],
      "metadata": {
        "colab": {
          "base_uri": "https://localhost:8080/"
        },
        "id": "K1QhsjAH4DQo",
        "outputId": "79899350-a959-44f6-9ed2-129d3fcdebf5"
      },
      "execution_count": 552,
      "outputs": [
        {
          "output_type": "stream",
          "name": "stdout",
          "text": [
            "[[0. 1. 2. 3. 4.]\n",
            " [0. 1. 2. 3. 4.]\n",
            " [0. 1. 2. 3. 4.]\n",
            " [0. 1. 2. 3. 4.]\n",
            " [0. 1. 2. 3. 4.]]\n"
          ]
        }
      ]
    },
    {
      "cell_type": "code",
      "source": [
        "#38\n",
        "#Consider a generator function that generates 10 integers and use it to build an array\n",
        "def generator():\n",
        "    for x in range(10):\n",
        "        yield x\n",
        "print(np.fromiter(generator(),dtype=float,count=-1))"
      ],
      "metadata": {
        "colab": {
          "base_uri": "https://localhost:8080/"
        },
        "id": "uUyWnyZk4DSw",
        "outputId": "be3e4413-1c6b-4f31-8cc1-fee683ef1d49"
      },
      "execution_count": 553,
      "outputs": [
        {
          "output_type": "stream",
          "name": "stdout",
          "text": [
            "[0. 1. 2. 3. 4. 5. 6. 7. 8. 9.]\n"
          ]
        }
      ]
    },
    {
      "cell_type": "code",
      "source": [
        "#39\n",
        "#Create a vector of size 10 with values ranging from 0 to 1, both excluded\n",
        "print(np.linspace(0,1,11,endpoint=False)[1:])"
      ],
      "metadata": {
        "colab": {
          "base_uri": "https://localhost:8080/"
        },
        "id": "7h_ieZ9c4DVM",
        "outputId": "31c97c4e-d41c-443a-8bf9-76fd47715aed"
      },
      "execution_count": 554,
      "outputs": [
        {
          "output_type": "stream",
          "name": "stdout",
          "text": [
            "[0.09090909 0.18181818 0.27272727 0.36363636 0.45454545 0.54545455\n",
            " 0.63636364 0.72727273 0.81818182 0.90909091]\n"
          ]
        }
      ]
    },
    {
      "cell_type": "code",
      "source": [
        "#40\n",
        "# Create a random vector of size 10 and sort it\n",
        "print(np.random.random(10).sort())"
      ],
      "metadata": {
        "colab": {
          "base_uri": "https://localhost:8080/"
        },
        "id": "E1yf0LJS4DX2",
        "outputId": "81dfdbed-a28e-444f-f909-411d996f1e92"
      },
      "execution_count": 555,
      "outputs": [
        {
          "output_type": "stream",
          "name": "stdout",
          "text": [
            "None\n"
          ]
        }
      ]
    },
    {
      "cell_type": "code",
      "source": [
        "#41\n",
        "#How to sum a small array faster than np.sum?\n",
        "np.add.reduce(np.arange(10))"
      ],
      "metadata": {
        "colab": {
          "base_uri": "https://localhost:8080/"
        },
        "id": "JAbsiI8_4DaI",
        "outputId": "b215ce82-d8ab-4991-de27-c609923911c3"
      },
      "execution_count": 556,
      "outputs": [
        {
          "output_type": "execute_result",
          "data": {
            "text/plain": [
              "45"
            ]
          },
          "metadata": {},
          "execution_count": 556
        }
      ]
    },
    {
      "cell_type": "code",
      "source": [
        "#42\n",
        "#Consider two random array A and B, check if they are equal \n",
        "A = np.random.randint(0,2,5)\n",
        "B = np.random.randint(0,2,5)\n",
        "equal = np.allclose(A,B)\n",
        "print(equal)\n",
        "equal = np.array_equal(A,B)\n",
        "print(equal)"
      ],
      "metadata": {
        "colab": {
          "base_uri": "https://localhost:8080/"
        },
        "id": "4wgUp7_D4DdJ",
        "outputId": "f983dab0-e588-4661-e0fb-d310de362fe4"
      },
      "execution_count": 557,
      "outputs": [
        {
          "output_type": "stream",
          "name": "stdout",
          "text": [
            "False\n",
            "False\n"
          ]
        }
      ]
    },
    {
      "cell_type": "code",
      "source": [
        "#44\n",
        "#Consider a random 10x2 matrix representing cartesian coordinates, convert them to polar coordinates\n",
        "Z = np.random.random((10,2))\n",
        "print(np.sqrt(Z[:,0]**2+Z[:,1]**2))\n",
        "print(np.arctan2(Z[:,1], Z[:,0]))"
      ],
      "metadata": {
        "colab": {
          "base_uri": "https://localhost:8080/"
        },
        "id": "MqU6un-u4VJD",
        "outputId": "02d3b1b6-c275-4628-c3db-5c24a5ff80ac"
      },
      "execution_count": 558,
      "outputs": [
        {
          "output_type": "stream",
          "name": "stdout",
          "text": [
            "[0.58627809 0.54055725 0.81892624 0.92631754 0.11825789 1.09044475\n",
            " 0.92684923 0.53144013 0.7138255  0.90694008]\n",
            "[1.44125202 0.83263468 0.57596798 1.22763652 0.09417107 0.63580046\n",
            " 0.53150975 0.23908327 1.2692396  1.12275289]\n"
          ]
        }
      ]
    },
    {
      "cell_type": "code",
      "source": [
        "#45\n",
        "#Create random vector of size 10 and replace the maximum value by 0\n",
        "Z = np.random.random(10)\n",
        "Z[Z.argmax()] = 0\n",
        "print(Z)"
      ],
      "metadata": {
        "colab": {
          "base_uri": "https://localhost:8080/"
        },
        "id": "odroNyZL4WLm",
        "outputId": "9244c05e-0fcf-4704-dfe6-6c77457fc681"
      },
      "execution_count": 559,
      "outputs": [
        {
          "output_type": "stream",
          "name": "stdout",
          "text": [
            "[0.46607953 0.9419173  0.         0.07238377 0.86873231 0.88898713\n",
            " 0.33445344 0.95961623 0.4325251  0.93330655]\n"
          ]
        }
      ]
    },
    {
      "cell_type": "code",
      "source": [
        "#46\n",
        "#Create a structured array with x and y coordinates covering the [0,1]x[0,1] area \n",
        "Z = np.zeros((5,5), [('x',float),('y',float)])\n",
        "Z['x'], Z['y'] = np.meshgrid(np.linspace(0,1,5), np.linspace(0,1,5))\n",
        "print(Z)"
      ],
      "metadata": {
        "colab": {
          "base_uri": "https://localhost:8080/"
        },
        "id": "SROmM3mJ4WOm",
        "outputId": "dcb19994-5b05-4837-f04f-e64637c92243"
      },
      "execution_count": 560,
      "outputs": [
        {
          "output_type": "stream",
          "name": "stdout",
          "text": [
            "[[(0.  , 0.  ) (0.25, 0.  ) (0.5 , 0.  ) (0.75, 0.  ) (1.  , 0.  )]\n",
            " [(0.  , 0.25) (0.25, 0.25) (0.5 , 0.25) (0.75, 0.25) (1.  , 0.25)]\n",
            " [(0.  , 0.5 ) (0.25, 0.5 ) (0.5 , 0.5 ) (0.75, 0.5 ) (1.  , 0.5 )]\n",
            " [(0.  , 0.75) (0.25, 0.75) (0.5 , 0.75) (0.75, 0.75) (1.  , 0.75)]\n",
            " [(0.  , 1.  ) (0.25, 1.  ) (0.5 , 1.  ) (0.75, 1.  ) (1.  , 1.  )]]\n"
          ]
        }
      ]
    },
    {
      "cell_type": "code",
      "source": [
        "#47\n",
        "#Given two arrays, X and Y, construct the Cauchy matrix C (Cij =1/(xi - yj))\n",
        "A = np.arange(8)\n",
        "B = A + 0.5\n",
        "C = 1.0 / np.subtract.outer(A, B)\n",
        "print(np.linalg.det(C))"
      ],
      "metadata": {
        "colab": {
          "base_uri": "https://localhost:8080/"
        },
        "id": "XaJpKqtn4WR2",
        "outputId": "f084c1e1-fdd0-4758-8333-64fb18d8d99c"
      },
      "execution_count": 561,
      "outputs": [
        {
          "output_type": "stream",
          "name": "stdout",
          "text": [
            "3638.1636371179666\n"
          ]
        }
      ]
    },
    {
      "cell_type": "code",
      "source": [
        "#48\n",
        "#Print the minimum and maximum representable value for each numpy scalar type\n",
        "for dtype in [np.int8, np.int32, np.int64]:\n",
        "   print(np.iinfo(dtype).min)\n",
        "   print(np.iinfo(dtype).max)\n",
        "for dtype in [np.float32, np.float64]:\n",
        "   print(np.finfo(dtype).min)\n",
        "   print(np.finfo(dtype).max)\n",
        "   print(np.finfo(dtype).eps)"
      ],
      "metadata": {
        "colab": {
          "base_uri": "https://localhost:8080/"
        },
        "id": "HNSqsTww4WWM",
        "outputId": "4a8cde3c-43f5-49c5-be0c-9eb959d3a3f3"
      },
      "execution_count": 562,
      "outputs": [
        {
          "output_type": "stream",
          "name": "stdout",
          "text": [
            "-128\n",
            "127\n",
            "-2147483648\n",
            "2147483647\n",
            "-9223372036854775808\n",
            "9223372036854775807\n",
            "-3.4028235e+38\n",
            "3.4028235e+38\n",
            "1.1920929e-07\n",
            "-1.7976931348623157e+308\n",
            "1.7976931348623157e+308\n",
            "2.220446049250313e-16\n"
          ]
        }
      ]
    },
    {
      "cell_type": "code",
      "source": [
        "#49\n",
        "#How to print all the values of an array?\n",
        "np.set_printoptions(threshold=float(\"inf\"))\n",
        "Z = np.zeros((40,40))\n",
        "print(Z)"
      ],
      "metadata": {
        "colab": {
          "base_uri": "https://localhost:8080/"
        },
        "id": "gz025-444Wgx",
        "outputId": "e1849dc2-2a7a-4c47-cb81-800b662ba44f"
      },
      "execution_count": 563,
      "outputs": [
        {
          "output_type": "stream",
          "name": "stdout",
          "text": [
            "[[0. 0. 0. 0. 0. 0. 0. 0. 0. 0. 0. 0. 0. 0. 0. 0. 0. 0. 0. 0. 0. 0. 0. 0.\n",
            "  0. 0. 0. 0. 0. 0. 0. 0. 0. 0. 0. 0. 0. 0. 0. 0.]\n",
            " [0. 0. 0. 0. 0. 0. 0. 0. 0. 0. 0. 0. 0. 0. 0. 0. 0. 0. 0. 0. 0. 0. 0. 0.\n",
            "  0. 0. 0. 0. 0. 0. 0. 0. 0. 0. 0. 0. 0. 0. 0. 0.]\n",
            " [0. 0. 0. 0. 0. 0. 0. 0. 0. 0. 0. 0. 0. 0. 0. 0. 0. 0. 0. 0. 0. 0. 0. 0.\n",
            "  0. 0. 0. 0. 0. 0. 0. 0. 0. 0. 0. 0. 0. 0. 0. 0.]\n",
            " [0. 0. 0. 0. 0. 0. 0. 0. 0. 0. 0. 0. 0. 0. 0. 0. 0. 0. 0. 0. 0. 0. 0. 0.\n",
            "  0. 0. 0. 0. 0. 0. 0. 0. 0. 0. 0. 0. 0. 0. 0. 0.]\n",
            " [0. 0. 0. 0. 0. 0. 0. 0. 0. 0. 0. 0. 0. 0. 0. 0. 0. 0. 0. 0. 0. 0. 0. 0.\n",
            "  0. 0. 0. 0. 0. 0. 0. 0. 0. 0. 0. 0. 0. 0. 0. 0.]\n",
            " [0. 0. 0. 0. 0. 0. 0. 0. 0. 0. 0. 0. 0. 0. 0. 0. 0. 0. 0. 0. 0. 0. 0. 0.\n",
            "  0. 0. 0. 0. 0. 0. 0. 0. 0. 0. 0. 0. 0. 0. 0. 0.]\n",
            " [0. 0. 0. 0. 0. 0. 0. 0. 0. 0. 0. 0. 0. 0. 0. 0. 0. 0. 0. 0. 0. 0. 0. 0.\n",
            "  0. 0. 0. 0. 0. 0. 0. 0. 0. 0. 0. 0. 0. 0. 0. 0.]\n",
            " [0. 0. 0. 0. 0. 0. 0. 0. 0. 0. 0. 0. 0. 0. 0. 0. 0. 0. 0. 0. 0. 0. 0. 0.\n",
            "  0. 0. 0. 0. 0. 0. 0. 0. 0. 0. 0. 0. 0. 0. 0. 0.]\n",
            " [0. 0. 0. 0. 0. 0. 0. 0. 0. 0. 0. 0. 0. 0. 0. 0. 0. 0. 0. 0. 0. 0. 0. 0.\n",
            "  0. 0. 0. 0. 0. 0. 0. 0. 0. 0. 0. 0. 0. 0. 0. 0.]\n",
            " [0. 0. 0. 0. 0. 0. 0. 0. 0. 0. 0. 0. 0. 0. 0. 0. 0. 0. 0. 0. 0. 0. 0. 0.\n",
            "  0. 0. 0. 0. 0. 0. 0. 0. 0. 0. 0. 0. 0. 0. 0. 0.]\n",
            " [0. 0. 0. 0. 0. 0. 0. 0. 0. 0. 0. 0. 0. 0. 0. 0. 0. 0. 0. 0. 0. 0. 0. 0.\n",
            "  0. 0. 0. 0. 0. 0. 0. 0. 0. 0. 0. 0. 0. 0. 0. 0.]\n",
            " [0. 0. 0. 0. 0. 0. 0. 0. 0. 0. 0. 0. 0. 0. 0. 0. 0. 0. 0. 0. 0. 0. 0. 0.\n",
            "  0. 0. 0. 0. 0. 0. 0. 0. 0. 0. 0. 0. 0. 0. 0. 0.]\n",
            " [0. 0. 0. 0. 0. 0. 0. 0. 0. 0. 0. 0. 0. 0. 0. 0. 0. 0. 0. 0. 0. 0. 0. 0.\n",
            "  0. 0. 0. 0. 0. 0. 0. 0. 0. 0. 0. 0. 0. 0. 0. 0.]\n",
            " [0. 0. 0. 0. 0. 0. 0. 0. 0. 0. 0. 0. 0. 0. 0. 0. 0. 0. 0. 0. 0. 0. 0. 0.\n",
            "  0. 0. 0. 0. 0. 0. 0. 0. 0. 0. 0. 0. 0. 0. 0. 0.]\n",
            " [0. 0. 0. 0. 0. 0. 0. 0. 0. 0. 0. 0. 0. 0. 0. 0. 0. 0. 0. 0. 0. 0. 0. 0.\n",
            "  0. 0. 0. 0. 0. 0. 0. 0. 0. 0. 0. 0. 0. 0. 0. 0.]\n",
            " [0. 0. 0. 0. 0. 0. 0. 0. 0. 0. 0. 0. 0. 0. 0. 0. 0. 0. 0. 0. 0. 0. 0. 0.\n",
            "  0. 0. 0. 0. 0. 0. 0. 0. 0. 0. 0. 0. 0. 0. 0. 0.]\n",
            " [0. 0. 0. 0. 0. 0. 0. 0. 0. 0. 0. 0. 0. 0. 0. 0. 0. 0. 0. 0. 0. 0. 0. 0.\n",
            "  0. 0. 0. 0. 0. 0. 0. 0. 0. 0. 0. 0. 0. 0. 0. 0.]\n",
            " [0. 0. 0. 0. 0. 0. 0. 0. 0. 0. 0. 0. 0. 0. 0. 0. 0. 0. 0. 0. 0. 0. 0. 0.\n",
            "  0. 0. 0. 0. 0. 0. 0. 0. 0. 0. 0. 0. 0. 0. 0. 0.]\n",
            " [0. 0. 0. 0. 0. 0. 0. 0. 0. 0. 0. 0. 0. 0. 0. 0. 0. 0. 0. 0. 0. 0. 0. 0.\n",
            "  0. 0. 0. 0. 0. 0. 0. 0. 0. 0. 0. 0. 0. 0. 0. 0.]\n",
            " [0. 0. 0. 0. 0. 0. 0. 0. 0. 0. 0. 0. 0. 0. 0. 0. 0. 0. 0. 0. 0. 0. 0. 0.\n",
            "  0. 0. 0. 0. 0. 0. 0. 0. 0. 0. 0. 0. 0. 0. 0. 0.]\n",
            " [0. 0. 0. 0. 0. 0. 0. 0. 0. 0. 0. 0. 0. 0. 0. 0. 0. 0. 0. 0. 0. 0. 0. 0.\n",
            "  0. 0. 0. 0. 0. 0. 0. 0. 0. 0. 0. 0. 0. 0. 0. 0.]\n",
            " [0. 0. 0. 0. 0. 0. 0. 0. 0. 0. 0. 0. 0. 0. 0. 0. 0. 0. 0. 0. 0. 0. 0. 0.\n",
            "  0. 0. 0. 0. 0. 0. 0. 0. 0. 0. 0. 0. 0. 0. 0. 0.]\n",
            " [0. 0. 0. 0. 0. 0. 0. 0. 0. 0. 0. 0. 0. 0. 0. 0. 0. 0. 0. 0. 0. 0. 0. 0.\n",
            "  0. 0. 0. 0. 0. 0. 0. 0. 0. 0. 0. 0. 0. 0. 0. 0.]\n",
            " [0. 0. 0. 0. 0. 0. 0. 0. 0. 0. 0. 0. 0. 0. 0. 0. 0. 0. 0. 0. 0. 0. 0. 0.\n",
            "  0. 0. 0. 0. 0. 0. 0. 0. 0. 0. 0. 0. 0. 0. 0. 0.]\n",
            " [0. 0. 0. 0. 0. 0. 0. 0. 0. 0. 0. 0. 0. 0. 0. 0. 0. 0. 0. 0. 0. 0. 0. 0.\n",
            "  0. 0. 0. 0. 0. 0. 0. 0. 0. 0. 0. 0. 0. 0. 0. 0.]\n",
            " [0. 0. 0. 0. 0. 0. 0. 0. 0. 0. 0. 0. 0. 0. 0. 0. 0. 0. 0. 0. 0. 0. 0. 0.\n",
            "  0. 0. 0. 0. 0. 0. 0. 0. 0. 0. 0. 0. 0. 0. 0. 0.]\n",
            " [0. 0. 0. 0. 0. 0. 0. 0. 0. 0. 0. 0. 0. 0. 0. 0. 0. 0. 0. 0. 0. 0. 0. 0.\n",
            "  0. 0. 0. 0. 0. 0. 0. 0. 0. 0. 0. 0. 0. 0. 0. 0.]\n",
            " [0. 0. 0. 0. 0. 0. 0. 0. 0. 0. 0. 0. 0. 0. 0. 0. 0. 0. 0. 0. 0. 0. 0. 0.\n",
            "  0. 0. 0. 0. 0. 0. 0. 0. 0. 0. 0. 0. 0. 0. 0. 0.]\n",
            " [0. 0. 0. 0. 0. 0. 0. 0. 0. 0. 0. 0. 0. 0. 0. 0. 0. 0. 0. 0. 0. 0. 0. 0.\n",
            "  0. 0. 0. 0. 0. 0. 0. 0. 0. 0. 0. 0. 0. 0. 0. 0.]\n",
            " [0. 0. 0. 0. 0. 0. 0. 0. 0. 0. 0. 0. 0. 0. 0. 0. 0. 0. 0. 0. 0. 0. 0. 0.\n",
            "  0. 0. 0. 0. 0. 0. 0. 0. 0. 0. 0. 0. 0. 0. 0. 0.]\n",
            " [0. 0. 0. 0. 0. 0. 0. 0. 0. 0. 0. 0. 0. 0. 0. 0. 0. 0. 0. 0. 0. 0. 0. 0.\n",
            "  0. 0. 0. 0. 0. 0. 0. 0. 0. 0. 0. 0. 0. 0. 0. 0.]\n",
            " [0. 0. 0. 0. 0. 0. 0. 0. 0. 0. 0. 0. 0. 0. 0. 0. 0. 0. 0. 0. 0. 0. 0. 0.\n",
            "  0. 0. 0. 0. 0. 0. 0. 0. 0. 0. 0. 0. 0. 0. 0. 0.]\n",
            " [0. 0. 0. 0. 0. 0. 0. 0. 0. 0. 0. 0. 0. 0. 0. 0. 0. 0. 0. 0. 0. 0. 0. 0.\n",
            "  0. 0. 0. 0. 0. 0. 0. 0. 0. 0. 0. 0. 0. 0. 0. 0.]\n",
            " [0. 0. 0. 0. 0. 0. 0. 0. 0. 0. 0. 0. 0. 0. 0. 0. 0. 0. 0. 0. 0. 0. 0. 0.\n",
            "  0. 0. 0. 0. 0. 0. 0. 0. 0. 0. 0. 0. 0. 0. 0. 0.]\n",
            " [0. 0. 0. 0. 0. 0. 0. 0. 0. 0. 0. 0. 0. 0. 0. 0. 0. 0. 0. 0. 0. 0. 0. 0.\n",
            "  0. 0. 0. 0. 0. 0. 0. 0. 0. 0. 0. 0. 0. 0. 0. 0.]\n",
            " [0. 0. 0. 0. 0. 0. 0. 0. 0. 0. 0. 0. 0. 0. 0. 0. 0. 0. 0. 0. 0. 0. 0. 0.\n",
            "  0. 0. 0. 0. 0. 0. 0. 0. 0. 0. 0. 0. 0. 0. 0. 0.]\n",
            " [0. 0. 0. 0. 0. 0. 0. 0. 0. 0. 0. 0. 0. 0. 0. 0. 0. 0. 0. 0. 0. 0. 0. 0.\n",
            "  0. 0. 0. 0. 0. 0. 0. 0. 0. 0. 0. 0. 0. 0. 0. 0.]\n",
            " [0. 0. 0. 0. 0. 0. 0. 0. 0. 0. 0. 0. 0. 0. 0. 0. 0. 0. 0. 0. 0. 0. 0. 0.\n",
            "  0. 0. 0. 0. 0. 0. 0. 0. 0. 0. 0. 0. 0. 0. 0. 0.]\n",
            " [0. 0. 0. 0. 0. 0. 0. 0. 0. 0. 0. 0. 0. 0. 0. 0. 0. 0. 0. 0. 0. 0. 0. 0.\n",
            "  0. 0. 0. 0. 0. 0. 0. 0. 0. 0. 0. 0. 0. 0. 0. 0.]\n",
            " [0. 0. 0. 0. 0. 0. 0. 0. 0. 0. 0. 0. 0. 0. 0. 0. 0. 0. 0. 0. 0. 0. 0. 0.\n",
            "  0. 0. 0. 0. 0. 0. 0. 0. 0. 0. 0. 0. 0. 0. 0. 0.]]\n"
          ]
        }
      ]
    },
    {
      "cell_type": "code",
      "source": [
        "#50\n",
        "#How to find the closest value (to a given scalar) in a vector?\n",
        "Z = np.arange(100)\n",
        "v = np.random.uniform(0,100)\n",
        "ind = (np.abs(Z-v)).argmin()\n",
        "print(Z[ind])"
      ],
      "metadata": {
        "colab": {
          "base_uri": "https://localhost:8080/"
        },
        "id": "jVYjnwpO4WjC",
        "outputId": "2f97a93a-4ac6-4f17-8fea-1f92db5c1726"
      },
      "execution_count": 564,
      "outputs": [
        {
          "output_type": "stream",
          "name": "stdout",
          "text": [
            "46\n"
          ]
        }
      ]
    },
    {
      "cell_type": "code",
      "source": [
        "#51\n",
        "#Create a structured array representing a position (x,y) and a color (r,g,b)\n",
        "Z = np.zeros(10, [ ('position', [ ('x', float, 1), ('y', float, 1)]), ('color',    [ ('r', float, 1), ('g', float, 1),('b', float, 1)])])\n",
        "print(Z)"
      ],
      "metadata": {
        "colab": {
          "base_uri": "https://localhost:8080/"
        },
        "id": "ZvDWBwBf4Wl-",
        "outputId": "094cd1f6-3060-4b39-9574-b7da6561dce0"
      },
      "execution_count": 565,
      "outputs": [
        {
          "output_type": "stream",
          "name": "stdout",
          "text": [
            "[((0., 0.), (0., 0., 0.)) ((0., 0.), (0., 0., 0.))\n",
            " ((0., 0.), (0., 0., 0.)) ((0., 0.), (0., 0., 0.))\n",
            " ((0., 0.), (0., 0., 0.)) ((0., 0.), (0., 0., 0.))\n",
            " ((0., 0.), (0., 0., 0.)) ((0., 0.), (0., 0., 0.))\n",
            " ((0., 0.), (0., 0., 0.)) ((0., 0.), (0., 0., 0.))]\n"
          ]
        },
        {
          "output_type": "stream",
          "name": "stderr",
          "text": [
            "/usr/local/lib/python3.7/dist-packages/ipykernel_launcher.py:3: FutureWarning: Passing (type, 1) or '1type' as a synonym of type is deprecated; in a future version of numpy, it will be understood as (type, (1,)) / '(1,)type'.\n",
            "  This is separate from the ipykernel package so we can avoid doing imports until\n"
          ]
        }
      ]
    },
    {
      "cell_type": "code",
      "source": [
        "#52\n",
        "#Consider a random vector with shape (100,2) representing coordinates, find point by point distances\n",
        "Z = np.random.random((10,2))\n",
        "X,Y = np.atleast_2d(Z[:,0], Z[:,1])\n",
        "print(np.sqrt( (X-X.T)**2 + (Y-Y.T)**2))"
      ],
      "metadata": {
        "colab": {
          "base_uri": "https://localhost:8080/"
        },
        "id": "hE9Pr-ZO-Cpe",
        "outputId": "80db1587-9b83-49ab-e90f-cb2b1c68ab23"
      },
      "execution_count": 566,
      "outputs": [
        {
          "output_type": "stream",
          "name": "stdout",
          "text": [
            "[[0.         0.28115109 0.63079277 0.21102255 0.33636988 0.3088431\n",
            "  0.18888672 0.60859136 0.79207936 0.42404008]\n",
            " [0.28115109 0.         0.34965799 0.41900951 0.28901501 0.53145037\n",
            "  0.42306383 0.32783542 0.63249916 0.58129465]\n",
            " [0.63079277 0.34965799 0.         0.74899681 0.51965856 0.85910043\n",
            "  0.76109552 0.02930913 0.57627883 0.86660715]\n",
            " [0.21102255 0.41900951 0.74899681 0.         0.29826431 0.1124478\n",
            "  0.04494099 0.73236176 0.99538049 0.59170565]\n",
            " [0.33636988 0.28901501 0.51965856 0.29826431 0.         0.38677912\n",
            "  0.33192747 0.51139791 0.92006215 0.75337651]\n",
            " [0.3088431  0.53145037 0.85910043 0.1124478  0.38677912 0.\n",
            "  0.12006821 0.84311406 1.10007481 0.64396486]\n",
            " [0.18888672 0.42306383 0.76109552 0.04494099 0.33192747 0.12006821\n",
            "  0.         0.74308382 0.98006371 0.55108266]\n",
            " [0.60859136 0.32783542 0.02930913 0.73236176 0.51139791 0.84311406\n",
            "  0.74308382 0.         0.55484708 0.83799447]\n",
            " [0.79207936 0.63249916 0.57627883 0.99538049 0.92006215 1.10007481\n",
            "  0.98006371 0.55484708 0.         0.70739345]\n",
            " [0.42404008 0.58129465 0.86660715 0.59170565 0.75337651 0.64396486\n",
            "  0.55108266 0.83799447 0.70739345 0.        ]]\n"
          ]
        }
      ]
    },
    {
      "cell_type": "code",
      "source": [
        "#53\n",
        "#How to convert a float (32 bits) array into an integer (32 bits) in place?\n",
        "Z = (np.random.rand(10)*100).astype(np.float32)\n",
        "Y = Z.view(np.int32)\n",
        "Y[:] = Z\n",
        "print(Y)"
      ],
      "metadata": {
        "colab": {
          "base_uri": "https://localhost:8080/"
        },
        "id": "BD-1NaMu-Czu",
        "outputId": "7a9f6597-5f09-48f2-a8e2-85a5e9980f5c"
      },
      "execution_count": 567,
      "outputs": [
        {
          "output_type": "stream",
          "name": "stdout",
          "text": [
            "[33 17 41 30 78 28 90 59 22 39]\n"
          ]
        }
      ]
    },
    {
      "cell_type": "code",
      "source": [
        "#54\n",
        "#How to read the following file? s = StringIO('''1, 2, 3, 4, 5\n",
        "from io import StringIO\n",
        "s = StringIO('''1, 2, 3, 4, 5\n",
        "\n",
        "                6,  ,  , 7, 8\n",
        "\n",
        "                 ,  , 9,10,11\n",
        "''')\n",
        "Z = np.genfromtxt(s, delimiter=\",\", dtype=np.int)\n",
        "print(Z)"
      ],
      "metadata": {
        "colab": {
          "base_uri": "https://localhost:8080/"
        },
        "id": "1DgUAtX_-C2E",
        "outputId": "fad046ec-4dfe-4c8c-e928-90264dddcfff"
      },
      "execution_count": 568,
      "outputs": [
        {
          "output_type": "stream",
          "name": "stdout",
          "text": [
            "[[ 1  2  3  4  5]\n",
            " [ 6 -1 -1  7  8]\n",
            " [-1 -1  9 10 11]]\n"
          ]
        }
      ]
    },
    {
      "cell_type": "code",
      "source": [
        "#55\n",
        "#What is the equivalent of enumerate for numpy arrays?\n",
        "A = np.arange(9).reshape(3,3)\n",
        "for index, value in np.ndenumerate(A):\n",
        "    print(index, value)\n",
        "for index in np.ndindex(A.shape):\n",
        "    print(index, A[index])"
      ],
      "metadata": {
        "colab": {
          "base_uri": "https://localhost:8080/"
        },
        "id": "KPQPtxdR-C4m",
        "outputId": "53b88fc0-54d1-4e07-f9b5-d285884fcf93"
      },
      "execution_count": 569,
      "outputs": [
        {
          "output_type": "stream",
          "name": "stdout",
          "text": [
            "(0, 0) 0\n",
            "(0, 1) 1\n",
            "(0, 2) 2\n",
            "(1, 0) 3\n",
            "(1, 1) 4\n",
            "(1, 2) 5\n",
            "(2, 0) 6\n",
            "(2, 1) 7\n",
            "(2, 2) 8\n",
            "(0, 0) 0\n",
            "(0, 1) 1\n",
            "(0, 2) 2\n",
            "(1, 0) 3\n",
            "(1, 1) 4\n",
            "(1, 2) 5\n",
            "(2, 0) 6\n",
            "(2, 1) 7\n",
            "(2, 2) 8\n"
          ]
        }
      ]
    },
    {
      "cell_type": "code",
      "source": [
        "#56\n",
        "#Generate a generic 2D Gaussian-like array\n",
        "X, Y = np.meshgrid(np.linspace(-1,1,10), np.linspace(-1,1,10))\n",
        "D = np.sqrt(X*X+Y*Y)\n",
        "delta = 1.0\n",
        "mu = 0.0\n",
        "G = np.exp(-( (D-mu)**2 / ( 2.0 * delta**2 ) ) )\n",
        "print(G)"
      ],
      "metadata": {
        "colab": {
          "base_uri": "https://localhost:8080/"
        },
        "id": "czq1poIP-C7C",
        "outputId": "eb5da5bc-7b75-4845-8d32-be303b3b345b"
      },
      "execution_count": 570,
      "outputs": [
        {
          "output_type": "stream",
          "name": "stdout",
          "text": [
            "[[0.36787944 0.44822088 0.51979489 0.57375342 0.60279818 0.60279818\n",
            "  0.57375342 0.51979489 0.44822088 0.36787944]\n",
            " [0.44822088 0.54610814 0.63331324 0.69905581 0.73444367 0.73444367\n",
            "  0.69905581 0.63331324 0.54610814 0.44822088]\n",
            " [0.51979489 0.63331324 0.73444367 0.81068432 0.85172308 0.85172308\n",
            "  0.81068432 0.73444367 0.63331324 0.51979489]\n",
            " [0.57375342 0.69905581 0.81068432 0.89483932 0.9401382  0.9401382\n",
            "  0.89483932 0.81068432 0.69905581 0.57375342]\n",
            " [0.60279818 0.73444367 0.85172308 0.9401382  0.98773022 0.98773022\n",
            "  0.9401382  0.85172308 0.73444367 0.60279818]\n",
            " [0.60279818 0.73444367 0.85172308 0.9401382  0.98773022 0.98773022\n",
            "  0.9401382  0.85172308 0.73444367 0.60279818]\n",
            " [0.57375342 0.69905581 0.81068432 0.89483932 0.9401382  0.9401382\n",
            "  0.89483932 0.81068432 0.69905581 0.57375342]\n",
            " [0.51979489 0.63331324 0.73444367 0.81068432 0.85172308 0.85172308\n",
            "  0.81068432 0.73444367 0.63331324 0.51979489]\n",
            " [0.44822088 0.54610814 0.63331324 0.69905581 0.73444367 0.73444367\n",
            "  0.69905581 0.63331324 0.54610814 0.44822088]\n",
            " [0.36787944 0.44822088 0.51979489 0.57375342 0.60279818 0.60279818\n",
            "  0.57375342 0.51979489 0.44822088 0.36787944]]\n"
          ]
        }
      ]
    },
    {
      "cell_type": "code",
      "source": [
        "#57\n",
        "# How to randomly place p elements in a 2D array? \n",
        "n = 10\n",
        "p = 3\n",
        "Z = np.zeros((n,n))\n",
        "np.put(Z, np.random.choice(range(n*n), p, replace=False),1)\n",
        "print(Z)"
      ],
      "metadata": {
        "colab": {
          "base_uri": "https://localhost:8080/"
        },
        "id": "OcPVblnB-C9b",
        "outputId": "8dd1c1a1-f31a-422e-cec3-7b4677274368"
      },
      "execution_count": 571,
      "outputs": [
        {
          "output_type": "stream",
          "name": "stdout",
          "text": [
            "[[0. 0. 0. 0. 0. 0. 0. 0. 0. 0.]\n",
            " [1. 0. 0. 0. 0. 0. 0. 0. 0. 0.]\n",
            " [0. 0. 0. 0. 0. 0. 0. 0. 0. 0.]\n",
            " [0. 0. 0. 0. 0. 0. 0. 0. 0. 0.]\n",
            " [0. 0. 0. 0. 0. 0. 0. 0. 0. 0.]\n",
            " [1. 0. 0. 0. 0. 0. 0. 0. 0. 0.]\n",
            " [0. 0. 0. 0. 0. 0. 0. 0. 0. 0.]\n",
            " [0. 0. 0. 0. 0. 0. 0. 0. 0. 0.]\n",
            " [0. 0. 0. 0. 0. 0. 0. 1. 0. 0.]\n",
            " [0. 0. 0. 0. 0. 0. 0. 0. 0. 0.]]\n"
          ]
        }
      ]
    },
    {
      "cell_type": "code",
      "source": [
        "#58\n",
        "#Subtract the mean of each row of a matrix \n",
        "X = np.random.rand(5, 10)\n",
        "print(X - X.mean(axis=1).reshape(-1, 1))"
      ],
      "metadata": {
        "colab": {
          "base_uri": "https://localhost:8080/"
        },
        "id": "hsWkCPKa-C_l",
        "outputId": "d2a8f172-0fa8-4ad7-fd5f-d20a0941cced"
      },
      "execution_count": 572,
      "outputs": [
        {
          "output_type": "stream",
          "name": "stdout",
          "text": [
            "[[ 0.48466497  0.05943309  0.31056488  0.0969021  -0.44666335 -0.32086039\n",
            "  -0.08092274  0.16511672 -0.12402015 -0.14421513]\n",
            " [-0.20589187  0.03409808 -0.18444364 -0.1943261   0.26831652 -0.06022202\n",
            "  -0.13244959 -0.15614379  0.18416637  0.44689604]\n",
            " [-0.00366659 -0.0741202   0.05656117  0.05277573 -0.15399997  0.1161843\n",
            "  -0.41068916  0.3847122   0.35563264 -0.32339012]\n",
            " [-0.11183125 -0.15801178  0.34090897  0.32706932  0.45550524 -0.10918779\n",
            "  -0.07024167 -0.38827488  0.02801491 -0.31395106]\n",
            " [ 0.33595238  0.00643974  0.29713226  0.01717236  0.0095112  -0.42335543\n",
            "  -0.14527565  0.00378102 -0.41961411  0.31825624]]\n"
          ]
        }
      ]
    },
    {
      "cell_type": "code",
      "source": [
        "#59\n",
        "#How to sort an array by the nth column?\n",
        "A = np.random.randint(0,10,(3,3))\n",
        "print(A)\n",
        "print(A[A[:,1].argsort()])"
      ],
      "metadata": {
        "colab": {
          "base_uri": "https://localhost:8080/"
        },
        "id": "NWvXH750-DB7",
        "outputId": "4d2e9f91-d3db-4f49-e4b6-e52d7e42cfad"
      },
      "execution_count": 573,
      "outputs": [
        {
          "output_type": "stream",
          "name": "stdout",
          "text": [
            "[[6 5 3]\n",
            " [5 2 1]\n",
            " [2 9 9]]\n",
            "[[5 2 1]\n",
            " [6 5 3]\n",
            " [2 9 9]]\n"
          ]
        }
      ]
    },
    {
      "cell_type": "code",
      "source": [
        "#60\n",
        "#How to tell if a given 2D array has null columns?\n",
        "print((np.random.randint(0,3,(3,10)).any(axis=0)).any())"
      ],
      "metadata": {
        "colab": {
          "base_uri": "https://localhost:8080/"
        },
        "id": "towASqtT-DER",
        "outputId": "ecd3e53d-745b-4554-98a9-57274a9b9ff9"
      },
      "execution_count": 574,
      "outputs": [
        {
          "output_type": "stream",
          "name": "stdout",
          "text": [
            "True\n"
          ]
        }
      ]
    },
    {
      "cell_type": "code",
      "source": [
        "#61\n",
        "#Find the nearest value from a given value in an array \n",
        "Z = np.random.uniform(0,1,10)\n",
        "print(Z.flat[np.abs(Z - 0.5).argmin()])"
      ],
      "metadata": {
        "colab": {
          "base_uri": "https://localhost:8080/"
        },
        "id": "cEihxvtQ-DGY",
        "outputId": "1440efd1-7128-4db5-8cf5-95d5f02ed256"
      },
      "execution_count": 575,
      "outputs": [
        {
          "output_type": "stream",
          "name": "stdout",
          "text": [
            "0.468127445849677\n"
          ]
        }
      ]
    },
    {
      "cell_type": "code",
      "source": [
        "#62\n",
        "#Considering two arrays with shape (1,3) and (3,1), how to compute their sum using an iterator?\n",
        "A = np.arange(3).reshape(3,1)\n",
        "B = np.arange(3).reshape(1,3)\n",
        "it = np.nditer([A,B,None])\n",
        "for x,y,z in it: z[...] = x + y\n",
        "print(it.operands[2])"
      ],
      "metadata": {
        "colab": {
          "base_uri": "https://localhost:8080/"
        },
        "id": "i_YHsQI1-DIq",
        "outputId": "b5538310-dd19-4815-934e-c3ea7bfef7f6"
      },
      "execution_count": 576,
      "outputs": [
        {
          "output_type": "stream",
          "name": "stdout",
          "text": [
            "[[0 1 2]\n",
            " [1 2 3]\n",
            " [2 3 4]]\n"
          ]
        }
      ]
    },
    {
      "cell_type": "code",
      "source": [
        "#63\n",
        "#Create an array class that has a name attribute \n",
        "class NamedArray(np.ndarray):\n",
        "    def __new__(cls, array, name=\"no name\"):\n",
        "        obj = np.asarray(array).view(cls)\n",
        "        obj.name = name\n",
        "        return obj\n",
        "    def __array_finalize__(self, obj):\n",
        "        if obj is None: return\n",
        "        self.info = getattr(obj, 'name', \"no name\")\n",
        "\n",
        "print (NamedArray(np.arange(10), \"range_10\").name)"
      ],
      "metadata": {
        "colab": {
          "base_uri": "https://localhost:8080/"
        },
        "id": "ObEgx0uL-DKz",
        "outputId": "062ca4a2-123b-483c-9e09-1c4844f7a9f2"
      },
      "execution_count": 577,
      "outputs": [
        {
          "output_type": "stream",
          "name": "stdout",
          "text": [
            "range_10\n"
          ]
        }
      ]
    },
    {
      "cell_type": "code",
      "source": [
        "#64\n",
        "#Consider a given vector, how to add 1 to each element indexed by a second vector (be careful with repeated indices)?\n",
        "Z = np.ones(10)\n",
        "I = np.random.randint(0,len(Z),20)\n",
        "Z += np.bincount(I, minlength=len(Z))\n",
        "print(Z)\n",
        "np.add.at(Z, I, 1)\n",
        "print(Z)"
      ],
      "metadata": {
        "colab": {
          "base_uri": "https://localhost:8080/"
        },
        "id": "PVOczkYw-DNP",
        "outputId": "59123437-c2ed-43a2-8a99-56d61027aa21"
      },
      "execution_count": 578,
      "outputs": [
        {
          "output_type": "stream",
          "name": "stdout",
          "text": [
            "[2. 3. 3. 4. 5. 6. 1. 2. 1. 3.]\n",
            "[ 3.  5.  5.  7.  9. 11.  1.  3.  1.  5.]\n"
          ]
        }
      ]
    },
    {
      "cell_type": "code",
      "source": [
        "#65\n",
        "#How to accumulate elements of a vector (X) to an array (F) based on an index list (I)?\n",
        "F = np.bincount([1,3,9,3,4,1],[1,2,3,4,5,6])\n",
        "print(F)"
      ],
      "metadata": {
        "colab": {
          "base_uri": "https://localhost:8080/"
        },
        "id": "2LPSCKuJ-DPP",
        "outputId": "8c1e485a-e8df-44e9-8103-bb0c8a94b8a8"
      },
      "execution_count": 579,
      "outputs": [
        {
          "output_type": "stream",
          "name": "stdout",
          "text": [
            "[0. 7. 0. 6. 5. 0. 0. 0. 0. 3.]\n"
          ]
        }
      ]
    },
    {
      "cell_type": "code",
      "source": [
        "#66\n",
        "#Considering a (w,h,3) image of (dtype=ubyte), compute the number of unique colors\n",
        "w, h = 256, 256\n",
        "I = np.random.randint(0, 4, (h, w, 3)).astype(np.ubyte)\n",
        "colors = np.unique(I.reshape(-1, 3), axis=0)\n",
        "n = len(colors)\n",
        "print(n)"
      ],
      "metadata": {
        "colab": {
          "base_uri": "https://localhost:8080/"
        },
        "id": "LW3s2Pal-DRo",
        "outputId": "0304d072-23ca-4077-bb6b-28f186ff29ee"
      },
      "execution_count": 580,
      "outputs": [
        {
          "output_type": "stream",
          "name": "stdout",
          "text": [
            "64\n"
          ]
        }
      ]
    },
    {
      "cell_type": "code",
      "source": [
        "#67\n",
        "#Considering a four dimensions array, how to get sum over the last two axis at once?\n",
        "sum = np.random.randint(0,10,(3,4,3,4)).sum(axis=(-2,-1))\n",
        "print(sum)"
      ],
      "metadata": {
        "colab": {
          "base_uri": "https://localhost:8080/"
        },
        "id": "YVkUHBYi-DTv",
        "outputId": "ae88852f-390a-4194-ef1c-accc38d0d4db"
      },
      "execution_count": 581,
      "outputs": [
        {
          "output_type": "stream",
          "name": "stdout",
          "text": [
            "[[46 62 63 49]\n",
            " [70 49 77 51]\n",
            " [49 49 51 43]]\n"
          ]
        }
      ]
    },
    {
      "cell_type": "code",
      "source": [
        "#69\n",
        "#How to get the diagonal of a dot product?\n",
        "A = np.random.uniform(0,1,(5,5))\n",
        "B = np.random.uniform(0,1,(5,5))\n",
        "np.einsum(\"ij,ji->i\", A, B)"
      ],
      "metadata": {
        "colab": {
          "base_uri": "https://localhost:8080/"
        },
        "id": "_X-tlrz3-DYr",
        "outputId": "5606f0e1-42ea-478f-c283-a3ca1253225c"
      },
      "execution_count": 582,
      "outputs": [
        {
          "output_type": "execute_result",
          "data": {
            "text/plain": [
              "array([0.88460563, 0.81018959, 0.64543434, 1.73071894, 2.07085958])"
            ]
          },
          "metadata": {},
          "execution_count": 582
        }
      ]
    },
    {
      "cell_type": "code",
      "source": [
        "#70\n",
        "#Consider the vector [1, 2, 3, 4, 5], how to build a new vector with 3 consecutive zeros interleaved between each value? \n",
        "a = np.array([1,2,3,4,5])\n",
        "a0 = np.zeros(len(a) + (len(a)-1)*(3))\n",
        "a0[::4] = a\n",
        "print(a0)"
      ],
      "metadata": {
        "colab": {
          "base_uri": "https://localhost:8080/"
        },
        "id": "ykbepxVW-DbQ",
        "outputId": "e61fe0d4-ef2d-46e8-d738-d14a68cef0e7"
      },
      "execution_count": 583,
      "outputs": [
        {
          "output_type": "stream",
          "name": "stdout",
          "text": [
            "[1. 0. 0. 0. 2. 0. 0. 0. 3. 0. 0. 0. 4. 0. 0. 0. 5.]\n"
          ]
        }
      ]
    },
    {
      "cell_type": "code",
      "source": [
        "#71\n",
        "#Consider an array of dimension (5,5,3), how to mulitply it by an array with dimensions (5,5)?\n",
        "A = np.ones((5,5,3))\n",
        "B = 2*np.ones((5,5))\n",
        "print(A * B[:,:,None])"
      ],
      "metadata": {
        "colab": {
          "base_uri": "https://localhost:8080/"
        },
        "id": "dNV-GIqi-Ddh",
        "outputId": "f3412673-6b78-49e4-de06-025fb1b77351"
      },
      "execution_count": 584,
      "outputs": [
        {
          "output_type": "stream",
          "name": "stdout",
          "text": [
            "[[[2. 2. 2.]\n",
            "  [2. 2. 2.]\n",
            "  [2. 2. 2.]\n",
            "  [2. 2. 2.]\n",
            "  [2. 2. 2.]]\n",
            "\n",
            " [[2. 2. 2.]\n",
            "  [2. 2. 2.]\n",
            "  [2. 2. 2.]\n",
            "  [2. 2. 2.]\n",
            "  [2. 2. 2.]]\n",
            "\n",
            " [[2. 2. 2.]\n",
            "  [2. 2. 2.]\n",
            "  [2. 2. 2.]\n",
            "  [2. 2. 2.]\n",
            "  [2. 2. 2.]]\n",
            "\n",
            " [[2. 2. 2.]\n",
            "  [2. 2. 2.]\n",
            "  [2. 2. 2.]\n",
            "  [2. 2. 2.]\n",
            "  [2. 2. 2.]]\n",
            "\n",
            " [[2. 2. 2.]\n",
            "  [2. 2. 2.]\n",
            "  [2. 2. 2.]\n",
            "  [2. 2. 2.]\n",
            "  [2. 2. 2.]]]\n"
          ]
        }
      ]
    },
    {
      "cell_type": "code",
      "source": [
        "#72\n",
        "#How to swap two rows of an array? \n",
        "A = np.arange(25).reshape(5,5)\n",
        "A[[0,1]] = A[[1,0]]\n",
        "print(A)"
      ],
      "metadata": {
        "colab": {
          "base_uri": "https://localhost:8080/"
        },
        "id": "0AjBt6U0-Df3",
        "outputId": "388b584b-cb2a-428a-f7e5-e9eabbd8d303"
      },
      "execution_count": 585,
      "outputs": [
        {
          "output_type": "stream",
          "name": "stdout",
          "text": [
            "[[ 5  6  7  8  9]\n",
            " [ 0  1  2  3  4]\n",
            " [10 11 12 13 14]\n",
            " [15 16 17 18 19]\n",
            " [20 21 22 23 24]]\n"
          ]
        }
      ]
    },
    {
      "cell_type": "code",
      "source": [
        "#73\n",
        "#Consider a set of 10 triplets describing 10 triangles (with shared vertices), find the set of unique line segments composing all the triangles\n",
        "faces = np.random.randint(0,100,(10,3))\n",
        "A = np.roll(faces.repeat(2,axis=1),-1,axis=1)\n",
        "A = A.reshape(len(A)*3,2)\n",
        "A = np.sort(A,axis=1)\n",
        "B = A.view( dtype=[('p0',A.dtype),('p1',A.dtype)] )\n",
        "print(np.unique(B))"
      ],
      "metadata": {
        "colab": {
          "base_uri": "https://localhost:8080/"
        },
        "id": "HhEHIl6T-Dih",
        "outputId": "2989cae3-e406-40cf-e4a3-602888e34bb5"
      },
      "execution_count": 586,
      "outputs": [
        {
          "output_type": "stream",
          "name": "stdout",
          "text": [
            "[( 0, 46) ( 0, 90) ( 2,  8) ( 2, 40) ( 5, 18) ( 5, 41) ( 8, 10) ( 8, 36)\n",
            " ( 8, 40) ( 8, 52) ( 8, 68) (10, 52) (18, 41) (18, 48) (18, 59) (18, 85)\n",
            " (18, 88) (26, 67) (26, 85) (36, 68) (44, 66) (44, 91) (46, 90) (48, 88)\n",
            " (50, 77) (50, 80) (59, 85) (66, 91) (67, 85) (77, 80)]\n"
          ]
        }
      ]
    },
    {
      "cell_type": "code",
      "source": [
        "#74\n",
        "#Given a sorted array C that corresponds to a bincount, how to produce an array A such that np.bincount(A) == C?\n",
        "A = np.bincount([1,1,2,3,4,4,6])\n",
        "B = np.repeat(np.arange(len(A)), A)\n",
        "print(B)"
      ],
      "metadata": {
        "colab": {
          "base_uri": "https://localhost:8080/"
        },
        "id": "7JXEKySh-Dku",
        "outputId": "64dd4de1-5e21-4508-93d9-13aa518116c2"
      },
      "execution_count": 587,
      "outputs": [
        {
          "output_type": "stream",
          "name": "stdout",
          "text": [
            "[1 1 2 3 4 4 6]\n"
          ]
        }
      ]
    },
    {
      "cell_type": "code",
      "source": [
        "#75\n",
        "#How to compute averages using a sliding window over an array?\n",
        "def moving_average(a, n=3) :\n",
        "    ret = np.cumsum(a, dtype=float)\n",
        "    ret[n:] = ret[n:] - ret[:-n]\n",
        "    return ret[n - 1:] / n\n",
        "print(moving_average(np.arange(20), n=3))"
      ],
      "metadata": {
        "colab": {
          "base_uri": "https://localhost:8080/"
        },
        "id": "oZnpdJnR-DnE",
        "outputId": "8606d63c-8b49-4bbb-c46c-a15d1e33e917"
      },
      "execution_count": 588,
      "outputs": [
        {
          "output_type": "stream",
          "name": "stdout",
          "text": [
            "[ 1.  2.  3.  4.  5.  6.  7.  8.  9. 10. 11. 12. 13. 14. 15. 16. 17. 18.]\n"
          ]
        }
      ]
    },
    {
      "cell_type": "code",
      "source": [
        "#76\n",
        "#Consider a one-dimensional array Z, build a two-dimensional array whose first row is (Z[0],Z[1],Z[2]) and each subsequent row is shifted by 1 (last row should be (Z[-3],Z[-2],Z[-1])\n",
        "from numpy.lib import stride_tricks\n",
        "\n",
        "def rolling(a, window):\n",
        "    shape = (a.size - window + 1, window)\n",
        "    strides = (a.strides[0], a.strides[0])\n",
        "    return stride_tricks.as_strided(a, shape=shape, strides=strides)\n",
        "print(rolling(np.arange(10), 3))"
      ],
      "metadata": {
        "colab": {
          "base_uri": "https://localhost:8080/"
        },
        "id": "0HwLJQHL-Dpd",
        "outputId": "8dc81b92-794e-4d50-b68b-b52973139b3b"
      },
      "execution_count": 589,
      "outputs": [
        {
          "output_type": "stream",
          "name": "stdout",
          "text": [
            "[[0 1 2]\n",
            " [1 2 3]\n",
            " [2 3 4]\n",
            " [3 4 5]\n",
            " [4 5 6]\n",
            " [5 6 7]\n",
            " [6 7 8]\n",
            " [7 8 9]]\n"
          ]
        }
      ]
    },
    {
      "cell_type": "code",
      "source": [
        "#77\n",
        "#How to negate a boolean, or to change the sign of a float inplace? \n",
        "np.logical_not(np.random.randint(0,2,100), out=np.random.randint(0,2,100))\n",
        "np.negative(np.random.uniform(-1.0,1.0,100), out=np.random.uniform(-1.0,1.0,100))"
      ],
      "metadata": {
        "colab": {
          "base_uri": "https://localhost:8080/"
        },
        "id": "andJ6nSM-Dr-",
        "outputId": "5618a95c-f00b-412d-ae61-f2d17708fd2f"
      },
      "execution_count": 590,
      "outputs": [
        {
          "output_type": "execute_result",
          "data": {
            "text/plain": [
              "array([-0.61771432, -0.54548166,  0.40255463,  0.45417541,  0.2518975 ,\n",
              "       -0.9682254 ,  0.19769515, -0.53158541, -0.68298894,  0.23990624,\n",
              "        0.78847407, -0.71581924, -0.25851095,  0.48063742,  0.60435272,\n",
              "        0.4630245 ,  0.46261627, -0.03318817,  0.32127394, -0.56114308,\n",
              "       -0.28198602, -0.98320133, -0.03789774, -0.9310324 ,  0.7525241 ,\n",
              "        0.00220128, -0.83041428, -0.60938916, -0.4490199 ,  0.60818497,\n",
              "       -0.75628217, -0.04224149, -0.69167886, -0.64791882, -0.02928206,\n",
              "        0.08570682,  0.84719126,  0.58087453, -0.16179378, -0.26487818,\n",
              "        0.91178004, -0.56763236,  0.25250242, -0.85661897, -0.87374495,\n",
              "        0.93174239, -0.31002392, -0.53269686,  0.88155918,  0.10396748,\n",
              "       -0.27812778,  0.10678233,  0.88235582,  0.27853063, -0.26383844,\n",
              "        0.08095153, -0.01321366, -0.01103537,  0.60403904, -0.00368611,\n",
              "        0.99713391, -0.02625006, -0.37229693,  0.49585374,  0.32691486,\n",
              "        0.14766098, -0.84449762, -0.63464892, -0.19419304,  0.32245271,\n",
              "       -0.03768177, -0.68666413,  0.42781904,  0.50521915,  0.87281102,\n",
              "        0.01645946,  0.41026431,  0.31396608,  0.21644744, -0.84524331,\n",
              "        0.72685336, -0.847006  , -0.75241544,  0.15018049, -0.02803657,\n",
              "       -0.76943542,  0.6279383 , -0.36038037,  0.27567675,  0.06762982,\n",
              "        0.16322515,  0.76247321,  0.15150291,  0.40397936, -0.28058887,\n",
              "        0.79452589,  0.74386244,  0.45969191, -0.57270182,  0.71487706])"
            ]
          },
          "metadata": {},
          "execution_count": 590
        }
      ]
    },
    {
      "cell_type": "code",
      "source": [
        "#78\n",
        "#Consider 2 sets of points P0,P1 describing lines (2d) and a point p, how to compute distance from p to each line i (P0[i],P1[i])? \n",
        "def distance(P0, P1, p):\n",
        "    T = P1 - P0\n",
        "    L = (T**2).sum(axis=1)\n",
        "    U = -((P0[:,0]-p[...,0])*T[:,0] + (P0[:,1]-p[...,1])*T[:,1]) / L\n",
        "    U = U.reshape(len(U),1)\n",
        "    D = P0 + U*T - p\n",
        "    return np.sqrt((D**2).sum(axis=1))\n",
        "\n",
        "P0 = np.random.uniform(-10,10,(10,2))\n",
        "P1 = np.random.uniform(-10,10,(10,2))\n",
        "p  = np.random.uniform(-10,10,( 1,2))\n",
        "print(distance(P0, P1, p))"
      ],
      "metadata": {
        "colab": {
          "base_uri": "https://localhost:8080/"
        },
        "id": "rceM_Ui3-DuA",
        "outputId": "cf7f1f42-a540-4e7a-dc72-a6eed05fea9b"
      },
      "execution_count": 591,
      "outputs": [
        {
          "output_type": "stream",
          "name": "stdout",
          "text": [
            "[ 4.79791646 13.89588302  2.09768403  4.16507878 12.73392388 18.64501442\n",
            " 16.27372104 15.65433288  0.98757195 10.76972249]\n"
          ]
        }
      ]
    },
    {
      "cell_type": "code",
      "source": [
        "#79\n",
        "# Consider 2 sets of points P0,P1 describing lines (2d) and a set of points P, how to compute distance from each point j (P[j]) to each line i (P0[i],P1[i])?\n",
        "def distance(P0, P1, p):\n",
        "    T = P1 - P0\n",
        "    L = (T**2).sum(axis=1)\n",
        "    U = -((P0[:,0]-p[...,0])*T[:,0] + (P0[:,1]-p[...,1])*T[:,1]) / L\n",
        "    U = U.reshape(len(U),1)\n",
        "    D = P0 + U*T - p\n",
        "    return np.sqrt((D**2).sum(axis=1))\n",
        "\n",
        "P0 = np.random.uniform(-10, 10, (10,2))\n",
        "P1 = np.random.uniform(-10,10,(10,2))\n",
        "p = np.random.uniform(-10, 10, (10,2))\n",
        "print(np.array([distance(P0,P1,p_i) for p_i in p]))"
      ],
      "metadata": {
        "colab": {
          "base_uri": "https://localhost:8080/"
        },
        "id": "p1K0Edat-Dxc",
        "outputId": "3d892e75-ef3a-41ee-dd24-f9f1653005e4"
      },
      "execution_count": 592,
      "outputs": [
        {
          "output_type": "stream",
          "name": "stdout",
          "text": [
            "[[18.41049996 11.28618435  4.29025907  3.31701361  1.79860118  8.17288147\n",
            "  15.03580984  6.59594177 12.04023025 17.19525778]\n",
            " [ 3.06655964  5.35493362  6.98744401  0.23163235  0.14382835  0.96775365\n",
            "  11.31444872 11.59540473  6.24504693  0.27298713]\n",
            " [14.86004059  8.23643938  7.67010325  1.67410891  6.61050031  3.29523371\n",
            "  10.04503778  6.8909633  12.22500326 14.58805443]\n",
            " [ 0.75527025  7.06793412  2.75055138  4.47194331  5.04276108  3.29920863\n",
            "   6.66126159  9.87166867  4.62317948  1.48233491]\n",
            " [ 1.25226755  7.86458008  6.09897992 12.24901095 13.78149896  9.77633233\n",
            "   0.9447231   4.4867697   0.5968424   1.29437259]\n",
            " [ 6.17718817  0.62836778 14.81581961 13.08044604 17.40696388  8.03305286\n",
            "   1.38802351  6.77024249 11.85121348  7.9437126 ]\n",
            " [ 7.00286236  0.52185233  7.92916062  7.56310072 10.99664478  3.62866082\n",
            "   3.97898944  2.11362003  7.31038764  7.08857525]\n",
            " [ 8.93896162  3.05605132 12.60105973  9.49389397 14.02329582  4.46097972\n",
            "   2.20845953  6.85232967 12.01293632 10.07100928]\n",
            " [ 6.04394978  0.5923835   6.66902751  7.35933902 10.41156863  3.78126985\n",
            "   4.12932865  0.55911701  5.75822145  5.86387033]\n",
            " [11.44696022  3.82206741  0.16887737  1.44614997  1.61920664  4.54972936\n",
            "  12.8925503   1.16421672  4.22770391  9.42551825]]\n"
          ]
        }
      ]
    },
    {
      "cell_type": "code",
      "source": [
        "#80\n",
        "#Consider an arbitrary array, write a function that extract a subpart with a fixed shape and centered on a given element (pad with a fill value when necessary)\n",
        "Z = np.random.randint(0,10,(10,10))\n",
        "shape = (5,5)\n",
        "fill  = 0\n",
        "position = (1,1)\n",
        "\n",
        "R = np.ones(shape, dtype=Z.dtype)*fill\n",
        "P  = np.array(list(position)).astype(int)\n",
        "Rs = np.array(list(R.shape)).astype(int)\n",
        "Zs = np.array(list(Z.shape)).astype(int)\n",
        "\n",
        "R_start = np.zeros((len(shape),)).astype(int)\n",
        "R_stop  = np.array(list(shape)).astype(int)\n",
        "Z_start = (P-Rs//2)\n",
        "Z_stop  = (P+Rs//2)+Rs%2\n",
        "\n",
        "R_start = (R_start - np.minimum(Z_start,0)).tolist()\n",
        "Z_start = (np.maximum(Z_start,0)).tolist()\n",
        "R_stop = np.maximum(R_start, (R_stop - np.maximum(Z_stop-Zs,0))).tolist()\n",
        "Z_stop = (np.minimum(Z_stop,Zs)).tolist()\n",
        "\n",
        "r = [slice(start,stop) for start,stop in zip(R_start,R_stop)]\n",
        "z = [slice(start,stop) for start,stop in zip(Z_start,Z_stop)]\n",
        "R[r] = Z[z]\n",
        "print(Z)\n",
        "print(R)"
      ],
      "metadata": {
        "colab": {
          "base_uri": "https://localhost:8080/"
        },
        "id": "ngqDoDTh-vyJ",
        "outputId": "375cf41f-f867-40c4-a489-d006c7905d93"
      },
      "execution_count": 593,
      "outputs": [
        {
          "output_type": "stream",
          "name": "stdout",
          "text": [
            "[[3 4 0 1 2 9 7 1 1 6]\n",
            " [1 5 4 7 6 7 0 3 5 6]\n",
            " [1 6 7 0 7 1 4 7 4 4]\n",
            " [8 0 1 5 4 9 8 4 4 8]\n",
            " [4 2 7 8 0 1 3 5 8 2]\n",
            " [7 6 4 8 8 5 8 5 4 5]\n",
            " [0 0 4 1 4 5 7 3 3 1]\n",
            " [7 9 7 7 7 4 7 4 3 0]\n",
            " [9 5 9 3 4 6 4 3 7 1]\n",
            " [9 9 8 0 3 2 4 5 4 2]]\n",
            "[[0 0 0 0 0]\n",
            " [0 3 4 0 1]\n",
            " [0 1 5 4 7]\n",
            " [0 1 6 7 0]\n",
            " [0 8 0 1 5]]\n"
          ]
        },
        {
          "output_type": "stream",
          "name": "stderr",
          "text": [
            "/usr/local/lib/python3.7/dist-packages/ipykernel_launcher.py:25: FutureWarning: Using a non-tuple sequence for multidimensional indexing is deprecated; use `arr[tuple(seq)]` instead of `arr[seq]`. In the future this will be interpreted as an array index, `arr[np.array(seq)]`, which will result either in an error or a different result.\n"
          ]
        }
      ]
    },
    {
      "cell_type": "code",
      "source": [
        "#81\n",
        "#Consider an array Z = [1,2,3,4,5,6,7,8,9,10,11,12,13,14], how to generate an array R = [[1,2,3,4], [2,3,4,5], [3,4,5,6], ..., [11,12,13,14]]?\n",
        "print(stride_tricks.as_strided(np.arange(1,15,dtype=np.uint32),(11,4),(4,4)))"
      ],
      "metadata": {
        "colab": {
          "base_uri": "https://localhost:8080/"
        },
        "id": "Pjyi20HG-v9s",
        "outputId": "83944a40-0593-489a-88ed-e2d9debb90ee"
      },
      "execution_count": 594,
      "outputs": [
        {
          "output_type": "stream",
          "name": "stdout",
          "text": [
            "[[ 1  2  3  4]\n",
            " [ 2  3  4  5]\n",
            " [ 3  4  5  6]\n",
            " [ 4  5  6  7]\n",
            " [ 5  6  7  8]\n",
            " [ 6  7  8  9]\n",
            " [ 7  8  9 10]\n",
            " [ 8  9 10 11]\n",
            " [ 9 10 11 12]\n",
            " [10 11 12 13]\n",
            " [11 12 13 14]]\n"
          ]
        }
      ]
    },
    {
      "cell_type": "code",
      "source": [
        "#82\n",
        "#Compute a matrix rank\n",
        "A = np.random.uniform(0,1,(10,10))\n",
        "U, S, V = np.linalg.svd(A) # Singular Value Decomposition\n",
        "rank = np.sum(S > 1e-10)\n",
        "print(rank)"
      ],
      "metadata": {
        "colab": {
          "base_uri": "https://localhost:8080/"
        },
        "id": "z9WF5hy9-wAE",
        "outputId": "5da9c60a-7550-49ca-8a34-0b45d556fc3a"
      },
      "execution_count": 595,
      "outputs": [
        {
          "output_type": "stream",
          "name": "stdout",
          "text": [
            "10\n"
          ]
        }
      ]
    },
    {
      "cell_type": "code",
      "source": [
        "#83\n",
        "#How to find the most frequent value in an array?\n",
        "print(np.bincount(np.random.randint(0,10,50)).argmax())"
      ],
      "metadata": {
        "colab": {
          "base_uri": "https://localhost:8080/"
        },
        "id": "W3_4m23k-wCP",
        "outputId": "63a9e97f-9033-4b2f-fce4-f50170c59bbd"
      },
      "execution_count": 596,
      "outputs": [
        {
          "output_type": "stream",
          "name": "stdout",
          "text": [
            "1\n"
          ]
        }
      ]
    },
    {
      "cell_type": "code",
      "source": [
        "#84\n",
        "#Extract all the contiguous 3x3 blocks from a random 10x10 matrix\n",
        "A = np.random.randint(0,5,(10,10))\n",
        "C = stride_tricks.as_strided(A, shape=(1 + (Z.shape[0]-3), 1 + (Z.shape[1]-3), 3, 3), strides=A.strides + A.strides)\n",
        "print(C)"
      ],
      "metadata": {
        "colab": {
          "base_uri": "https://localhost:8080/"
        },
        "id": "SmkwQ2Ng-wEc",
        "outputId": "de58c59f-4287-4422-bc56-8a1a445d069f"
      },
      "execution_count": 597,
      "outputs": [
        {
          "output_type": "stream",
          "name": "stdout",
          "text": [
            "[[[[2 0 3]\n",
            "   [0 2 2]\n",
            "   [4 3 1]]\n",
            "\n",
            "  [[0 3 1]\n",
            "   [2 2 3]\n",
            "   [3 1 4]]\n",
            "\n",
            "  [[3 1 0]\n",
            "   [2 3 4]\n",
            "   [1 4 1]]\n",
            "\n",
            "  [[1 0 0]\n",
            "   [3 4 1]\n",
            "   [4 1 4]]\n",
            "\n",
            "  [[0 0 2]\n",
            "   [4 1 1]\n",
            "   [1 4 0]]\n",
            "\n",
            "  [[0 2 3]\n",
            "   [1 1 2]\n",
            "   [4 0 0]]\n",
            "\n",
            "  [[2 3 4]\n",
            "   [1 2 4]\n",
            "   [0 0 4]]\n",
            "\n",
            "  [[3 4 2]\n",
            "   [2 4 1]\n",
            "   [0 4 0]]]\n",
            "\n",
            "\n",
            " [[[0 2 2]\n",
            "   [4 3 1]\n",
            "   [4 2 2]]\n",
            "\n",
            "  [[2 2 3]\n",
            "   [3 1 4]\n",
            "   [2 2 3]]\n",
            "\n",
            "  [[2 3 4]\n",
            "   [1 4 1]\n",
            "   [2 3 2]]\n",
            "\n",
            "  [[3 4 1]\n",
            "   [4 1 4]\n",
            "   [3 2 2]]\n",
            "\n",
            "  [[4 1 1]\n",
            "   [1 4 0]\n",
            "   [2 2 3]]\n",
            "\n",
            "  [[1 1 2]\n",
            "   [4 0 0]\n",
            "   [2 3 3]]\n",
            "\n",
            "  [[1 2 4]\n",
            "   [0 0 4]\n",
            "   [3 3 1]]\n",
            "\n",
            "  [[2 4 1]\n",
            "   [0 4 0]\n",
            "   [3 1 3]]]\n",
            "\n",
            "\n",
            " [[[4 3 1]\n",
            "   [4 2 2]\n",
            "   [1 0 2]]\n",
            "\n",
            "  [[3 1 4]\n",
            "   [2 2 3]\n",
            "   [0 2 0]]\n",
            "\n",
            "  [[1 4 1]\n",
            "   [2 3 2]\n",
            "   [2 0 0]]\n",
            "\n",
            "  [[4 1 4]\n",
            "   [3 2 2]\n",
            "   [0 0 1]]\n",
            "\n",
            "  [[1 4 0]\n",
            "   [2 2 3]\n",
            "   [0 1 0]]\n",
            "\n",
            "  [[4 0 0]\n",
            "   [2 3 3]\n",
            "   [1 0 2]]\n",
            "\n",
            "  [[0 0 4]\n",
            "   [3 3 1]\n",
            "   [0 2 2]]\n",
            "\n",
            "  [[0 4 0]\n",
            "   [3 1 3]\n",
            "   [2 2 2]]]\n",
            "\n",
            "\n",
            " [[[4 2 2]\n",
            "   [1 0 2]\n",
            "   [0 4 3]]\n",
            "\n",
            "  [[2 2 3]\n",
            "   [0 2 0]\n",
            "   [4 3 2]]\n",
            "\n",
            "  [[2 3 2]\n",
            "   [2 0 0]\n",
            "   [3 2 4]]\n",
            "\n",
            "  [[3 2 2]\n",
            "   [0 0 1]\n",
            "   [2 4 1]]\n",
            "\n",
            "  [[2 2 3]\n",
            "   [0 1 0]\n",
            "   [4 1 4]]\n",
            "\n",
            "  [[2 3 3]\n",
            "   [1 0 2]\n",
            "   [1 4 1]]\n",
            "\n",
            "  [[3 3 1]\n",
            "   [0 2 2]\n",
            "   [4 1 4]]\n",
            "\n",
            "  [[3 1 3]\n",
            "   [2 2 2]\n",
            "   [1 4 3]]]\n",
            "\n",
            "\n",
            " [[[1 0 2]\n",
            "   [0 4 3]\n",
            "   [3 4 2]]\n",
            "\n",
            "  [[0 2 0]\n",
            "   [4 3 2]\n",
            "   [4 2 3]]\n",
            "\n",
            "  [[2 0 0]\n",
            "   [3 2 4]\n",
            "   [2 3 2]]\n",
            "\n",
            "  [[0 0 1]\n",
            "   [2 4 1]\n",
            "   [3 2 1]]\n",
            "\n",
            "  [[0 1 0]\n",
            "   [4 1 4]\n",
            "   [2 1 1]]\n",
            "\n",
            "  [[1 0 2]\n",
            "   [1 4 1]\n",
            "   [1 1 1]]\n",
            "\n",
            "  [[0 2 2]\n",
            "   [4 1 4]\n",
            "   [1 1 3]]\n",
            "\n",
            "  [[2 2 2]\n",
            "   [1 4 3]\n",
            "   [1 3 3]]]\n",
            "\n",
            "\n",
            " [[[0 4 3]\n",
            "   [3 4 2]\n",
            "   [4 3 1]]\n",
            "\n",
            "  [[4 3 2]\n",
            "   [4 2 3]\n",
            "   [3 1 1]]\n",
            "\n",
            "  [[3 2 4]\n",
            "   [2 3 2]\n",
            "   [1 1 3]]\n",
            "\n",
            "  [[2 4 1]\n",
            "   [3 2 1]\n",
            "   [1 3 1]]\n",
            "\n",
            "  [[4 1 4]\n",
            "   [2 1 1]\n",
            "   [3 1 1]]\n",
            "\n",
            "  [[1 4 1]\n",
            "   [1 1 1]\n",
            "   [1 1 3]]\n",
            "\n",
            "  [[4 1 4]\n",
            "   [1 1 3]\n",
            "   [1 3 2]]\n",
            "\n",
            "  [[1 4 3]\n",
            "   [1 3 3]\n",
            "   [3 2 4]]]\n",
            "\n",
            "\n",
            " [[[3 4 2]\n",
            "   [4 3 1]\n",
            "   [1 2 0]]\n",
            "\n",
            "  [[4 2 3]\n",
            "   [3 1 1]\n",
            "   [2 0 3]]\n",
            "\n",
            "  [[2 3 2]\n",
            "   [1 1 3]\n",
            "   [0 3 2]]\n",
            "\n",
            "  [[3 2 1]\n",
            "   [1 3 1]\n",
            "   [3 2 0]]\n",
            "\n",
            "  [[2 1 1]\n",
            "   [3 1 1]\n",
            "   [2 0 2]]\n",
            "\n",
            "  [[1 1 1]\n",
            "   [1 1 3]\n",
            "   [0 2 4]]\n",
            "\n",
            "  [[1 1 3]\n",
            "   [1 3 2]\n",
            "   [2 4 0]]\n",
            "\n",
            "  [[1 3 3]\n",
            "   [3 2 4]\n",
            "   [4 0 1]]]\n",
            "\n",
            "\n",
            " [[[4 3 1]\n",
            "   [1 2 0]\n",
            "   [0 0 1]]\n",
            "\n",
            "  [[3 1 1]\n",
            "   [2 0 3]\n",
            "   [0 1 4]]\n",
            "\n",
            "  [[1 1 3]\n",
            "   [0 3 2]\n",
            "   [1 4 1]]\n",
            "\n",
            "  [[1 3 1]\n",
            "   [3 2 0]\n",
            "   [4 1 3]]\n",
            "\n",
            "  [[3 1 1]\n",
            "   [2 0 2]\n",
            "   [1 3 2]]\n",
            "\n",
            "  [[1 1 3]\n",
            "   [0 2 4]\n",
            "   [3 2 3]]\n",
            "\n",
            "  [[1 3 2]\n",
            "   [2 4 0]\n",
            "   [2 3 2]]\n",
            "\n",
            "  [[3 2 4]\n",
            "   [4 0 1]\n",
            "   [3 2 2]]]]\n"
          ]
        }
      ]
    },
    {
      "cell_type": "code",
      "source": [
        "#85\n",
        "# Create a 2D array subclass such that Z[i,j] == Z[j,i]\n",
        "class Symetric(np.ndarray):\n",
        "    def __setitem__(self, index, value):\n",
        "        i,j = index\n",
        "        super(Symetric, self).__setitem__((i,j), value)\n",
        "        super(Symetric, self).__setitem__((j,i), value)\n",
        "\n",
        "def symetric(Z):\n",
        "    return np.asarray(Z + Z.T - np.diag(Z.diagonal())).view(Symetric)\n",
        "\n",
        "S = symetric(np.random.randint(0,10,(5,5)))\n",
        "S[2,3] = 42\n",
        "print(S)"
      ],
      "metadata": {
        "colab": {
          "base_uri": "https://localhost:8080/"
        },
        "id": "DZcAcSHT-wGr",
        "outputId": "61cdfa75-6898-4c2e-fc0e-6916f13a03c2"
      },
      "execution_count": 598,
      "outputs": [
        {
          "output_type": "stream",
          "name": "stdout",
          "text": [
            "[[ 7  7  4 15  9]\n",
            " [ 7  6  7 12 14]\n",
            " [ 4  7  4 42  9]\n",
            " [15 12 42  6 12]\n",
            " [ 9 14  9 12  2]]\n"
          ]
        }
      ]
    },
    {
      "cell_type": "code",
      "source": [
        "#86\n",
        "#Consider a set of p matrices wich shape (n,n) and a set of p vectors with shape (n,1). How to compute the sum of of the p matrix products at once? (result has shape (n,1))\n",
        "p, n = 10, 20\n",
        "M = np.ones((p,n,n))\n",
        "V = np.ones((p,n,1))\n",
        "S = np.tensordot(M, V, axes=[[0, 2], [0, 1]])\n",
        "print(S)"
      ],
      "metadata": {
        "colab": {
          "base_uri": "https://localhost:8080/"
        },
        "id": "O4M6u6mJ-wJO",
        "outputId": "7b2f6678-00cf-45c7-cc3f-c5697049d6c5"
      },
      "execution_count": 599,
      "outputs": [
        {
          "output_type": "stream",
          "name": "stdout",
          "text": [
            "[[200.]\n",
            " [200.]\n",
            " [200.]\n",
            " [200.]\n",
            " [200.]\n",
            " [200.]\n",
            " [200.]\n",
            " [200.]\n",
            " [200.]\n",
            " [200.]\n",
            " [200.]\n",
            " [200.]\n",
            " [200.]\n",
            " [200.]\n",
            " [200.]\n",
            " [200.]\n",
            " [200.]\n",
            " [200.]\n",
            " [200.]\n",
            " [200.]]\n"
          ]
        }
      ]
    },
    {
      "cell_type": "code",
      "source": [
        "#87\n",
        "#Consider a 16x16 array, how to get the block-sum (block size is 4x4)?\n",
        "Z = np.ones((16,16))\n",
        "k = 4\n",
        "S = np.add.reduceat(np.add.reduceat(Z, np.arange(0, Z.shape[0], k), axis=0), np.arange(0, Z.shape[1], k), axis=1)\n",
        "print(S)"
      ],
      "metadata": {
        "colab": {
          "base_uri": "https://localhost:8080/"
        },
        "id": "dOmz_M0X-wLv",
        "outputId": "a282e09a-7f66-4d7e-bc74-b0e89f3ca2d9"
      },
      "execution_count": 600,
      "outputs": [
        {
          "output_type": "stream",
          "name": "stdout",
          "text": [
            "[[16. 16. 16. 16.]\n",
            " [16. 16. 16. 16.]\n",
            " [16. 16. 16. 16.]\n",
            " [16. 16. 16. 16.]]\n"
          ]
        }
      ]
    },
    {
      "cell_type": "code",
      "source": [
        "#88\n",
        "#How to implement the Game of Life using numpy arrays? \n",
        "def iterate(Z):\n",
        "    # Count neighbours\n",
        "    N = (Z[0:-2,0:-2] + Z[0:-2,1:-1] + Z[0:-2,2:] +\n",
        "         Z[1:-1,0:-2]                + Z[1:-1,2:] +\n",
        "         Z[2:  ,0:-2] + Z[2:  ,1:-1] + Z[2:  ,2:])\n",
        "\n",
        "    # Apply rules\n",
        "    birth = (N==3) & (Z[1:-1,1:-1]==0)\n",
        "    survive = ((N==2) | (N==3)) & (Z[1:-1,1:-1]==1)\n",
        "    Z[...] = 0\n",
        "    Z[1:-1,1:-1][birth | survive] = 1\n",
        "    return Z\n",
        "\n",
        "Z = np.random.randint(0,2,(50,50))\n",
        "for i in range(100): Z = iterate(Z)\n",
        "print(Z)"
      ],
      "metadata": {
        "colab": {
          "base_uri": "https://localhost:8080/"
        },
        "id": "1kDgodUX-wNs",
        "outputId": "4d2ec8ff-de21-4377-cc49-f33d36a0a30d"
      },
      "execution_count": 601,
      "outputs": [
        {
          "output_type": "stream",
          "name": "stdout",
          "text": [
            "[[0 0 0 0 0 0 0 0 0 0 0 0 0 0 0 0 0 0 0 0 0 0 0 0 0 0 0 0 0 0 0 0 0 0 0 0\n",
            "  0 0 0 0 0 0 0 0 0 0 0 0 0 0]\n",
            " [0 0 0 0 0 0 0 0 0 0 0 0 0 0 0 0 0 0 0 0 0 0 0 0 0 0 0 0 0 0 0 0 0 0 0 0\n",
            "  0 0 0 0 0 0 0 0 0 0 0 0 0 0]\n",
            " [0 0 0 0 0 0 0 0 0 0 0 0 0 0 0 0 0 0 0 0 0 0 0 0 0 0 1 0 0 0 0 0 0 0 0 0\n",
            "  0 0 0 0 0 0 0 0 0 0 0 0 0 0]\n",
            " [0 0 0 0 0 0 0 0 0 0 0 0 0 0 0 0 0 0 0 0 0 0 0 0 0 0 1 0 0 0 0 0 0 0 0 0\n",
            "  0 0 0 0 0 0 0 0 0 0 0 0 0 0]\n",
            " [0 0 0 0 0 0 0 0 0 0 0 0 0 0 0 0 0 0 0 0 0 0 0 0 0 0 1 0 0 0 0 0 0 0 0 0\n",
            "  0 0 0 0 0 0 0 0 0 0 0 0 0 0]\n",
            " [0 0 0 0 0 0 0 0 0 0 0 0 0 0 0 0 0 0 0 0 0 0 0 0 0 0 0 0 0 0 0 0 0 0 0 0\n",
            "  0 0 0 0 0 0 0 0 0 0 0 0 0 0]\n",
            " [0 0 0 0 0 0 0 0 0 0 0 0 0 0 0 0 0 0 0 0 0 0 0 0 0 0 0 0 0 1 0 0 0 0 0 0\n",
            "  1 1 1 0 0 0 0 0 0 0 0 0 0 0]\n",
            " [0 0 0 0 0 0 0 0 0 0 0 0 0 0 0 0 0 0 0 0 0 0 0 0 0 0 0 0 0 1 0 0 0 0 0 1\n",
            "  0 0 0 1 0 0 0 0 0 0 0 0 0 0]\n",
            " [0 0 0 0 0 0 0 0 0 0 0 0 0 0 0 0 0 0 0 0 0 0 0 0 0 0 0 0 0 0 0 0 0 0 0 1\n",
            "  1 0 0 0 0 0 0 0 0 0 0 0 0 0]\n",
            " [0 0 0 0 0 0 0 0 0 0 0 0 0 0 0 0 0 0 0 0 0 0 0 0 0 0 0 0 0 0 0 1 0 0 0 1\n",
            "  0 1 1 1 0 0 0 0 0 0 0 0 0 0]\n",
            " [0 0 0 0 0 0 0 0 0 0 0 0 0 0 0 0 0 0 0 0 0 0 0 0 0 0 0 0 0 0 0 1 0 0 0 0\n",
            "  0 0 0 0 0 0 0 0 0 0 0 0 0 0]\n",
            " [0 0 0 0 0 0 0 0 0 0 0 0 0 0 0 0 0 0 0 0 0 0 0 0 0 0 0 0 0 0 0 0 0 0 0 0\n",
            "  0 0 0 0 0 0 0 0 0 0 0 0 0 0]\n",
            " [0 0 0 0 0 0 0 0 0 0 0 0 0 0 0 0 0 0 0 0 0 0 0 0 0 0 0 0 0 0 0 0 0 0 0 0\n",
            "  1 1 0 0 0 0 0 0 0 0 0 0 0 0]\n",
            " [0 0 0 0 0 0 0 0 0 0 0 0 0 0 0 0 0 0 0 0 0 0 0 0 0 0 0 0 0 0 0 0 0 0 0 1\n",
            "  0 0 0 1 0 0 0 0 0 0 0 0 0 0]\n",
            " [0 0 0 0 0 0 0 0 0 0 0 0 0 0 0 0 0 0 0 0 0 0 0 0 0 0 0 0 0 0 0 0 0 0 0 1\n",
            "  0 0 0 1 0 0 0 0 0 0 0 0 0 0]\n",
            " [0 0 0 0 0 0 0 0 0 0 0 0 0 0 0 0 0 0 0 0 0 0 0 0 0 0 0 0 0 0 0 0 0 0 0 0\n",
            "  1 0 0 0 0 0 0 0 0 0 0 0 0 0]\n",
            " [0 0 0 0 0 0 0 0 0 0 0 0 0 0 0 0 0 0 0 0 0 0 0 0 0 0 0 0 0 0 0 0 0 0 0 0\n",
            "  0 0 1 1 1 0 0 0 0 0 0 0 0 0]\n",
            " [0 0 0 0 0 1 1 1 0 0 0 0 0 0 0 0 0 0 0 0 0 0 0 0 0 0 0 0 0 0 0 0 0 0 0 0\n",
            "  0 0 0 1 0 1 0 0 0 0 0 0 0 0]\n",
            " [0 0 0 0 0 0 0 0 0 0 0 0 0 0 0 0 0 0 0 0 0 0 0 0 0 0 0 0 0 0 1 0 0 0 0 0\n",
            "  0 0 1 0 0 1 0 0 0 0 0 0 0 0]\n",
            " [0 0 0 0 0 0 0 0 0 0 0 0 0 0 0 0 0 0 0 0 0 0 0 0 0 0 0 0 0 0 1 0 0 0 0 0\n",
            "  0 1 0 0 0 0 0 0 0 0 0 0 0 0]\n",
            " [0 0 0 0 0 0 0 0 0 0 0 0 0 0 0 0 0 0 0 0 0 0 0 1 0 0 0 0 0 0 1 0 0 0 0 0\n",
            "  0 0 0 0 0 0 0 0 0 0 0 0 0 0]\n",
            " [0 0 0 0 0 0 0 0 0 0 0 0 0 0 0 0 0 0 0 0 0 0 0 1 0 0 0 0 0 0 0 0 0 0 0 0\n",
            "  0 0 1 0 1 0 0 0 0 0 0 0 0 0]\n",
            " [0 0 0 0 0 0 0 0 0 0 0 0 0 0 0 0 0 0 0 0 0 0 0 1 0 0 0 0 0 0 0 0 0 0 0 0\n",
            "  0 0 0 0 0 0 1 1 0 0 0 0 0 0]\n",
            " [0 0 0 0 0 0 0 0 0 0 0 0 0 0 0 0 0 0 0 0 0 0 0 0 0 0 0 0 0 0 0 0 0 0 0 0\n",
            "  0 0 0 0 0 1 0 0 1 0 0 0 0 0]\n",
            " [0 0 0 0 0 0 0 0 0 0 0 0 0 0 0 0 0 0 0 0 0 0 0 0 0 0 0 1 1 0 0 0 0 0 0 0\n",
            "  0 0 0 0 0 1 1 1 0 0 0 0 0 0]\n",
            " [0 0 0 0 0 0 0 0 0 0 0 0 0 0 0 0 0 0 0 0 0 0 0 0 0 0 0 1 1 0 0 0 0 0 0 0\n",
            "  0 0 0 0 0 1 0 0 0 0 0 0 0 0]\n",
            " [0 0 0 0 0 0 0 0 0 0 0 0 0 0 0 0 0 0 0 0 0 0 0 0 0 0 0 0 0 0 0 0 0 0 0 0\n",
            "  0 0 0 0 0 0 0 0 1 0 0 0 0 0]\n",
            " [0 0 0 0 0 0 0 0 0 0 0 0 0 0 0 0 0 0 0 0 0 0 0 0 0 0 0 0 0 0 0 0 0 0 0 0\n",
            "  0 0 0 0 0 0 0 0 1 1 0 0 0 0]\n",
            " [0 0 0 0 0 0 0 0 0 0 0 0 0 0 0 0 0 0 0 0 0 0 0 0 0 0 0 0 0 0 0 0 0 0 0 0\n",
            "  0 0 0 1 0 0 0 1 1 1 1 0 0 0]\n",
            " [0 0 0 0 0 0 0 0 0 0 0 0 0 0 0 0 0 0 0 0 0 0 0 0 0 0 0 0 0 0 0 0 1 1 0 0\n",
            "  0 0 0 1 0 0 0 0 0 0 1 1 0 0]\n",
            " [0 0 0 0 0 0 0 0 0 0 0 0 0 0 0 0 0 0 0 0 0 0 0 0 0 0 0 0 0 0 0 1 0 0 1 1\n",
            "  0 0 0 0 0 1 1 0 1 0 1 0 0 0]\n",
            " [0 0 0 0 0 0 0 0 0 0 0 0 0 0 0 0 0 0 0 0 0 0 0 0 0 0 0 0 0 0 0 0 1 1 1 1\n",
            "  0 1 0 1 0 1 1 1 1 1 0 0 0 0]\n",
            " [0 0 0 0 0 0 0 0 0 0 0 0 0 0 0 0 0 0 0 0 0 0 0 0 0 0 0 0 0 0 0 0 0 0 0 0\n",
            "  0 1 0 0 0 0 0 1 1 1 0 0 0 0]\n",
            " [0 0 0 0 0 0 0 0 0 0 0 0 0 0 0 0 0 0 0 0 0 0 0 0 0 0 0 0 0 0 0 0 0 0 0 0\n",
            "  0 0 0 0 0 1 1 1 0 0 0 0 0 0]\n",
            " [0 0 0 0 0 0 0 0 0 0 0 0 0 0 0 0 0 0 0 0 0 0 0 0 0 0 0 0 0 0 0 0 0 0 0 0\n",
            "  0 1 0 0 0 1 0 0 1 0 0 0 0 0]\n",
            " [0 0 0 0 0 0 0 0 0 0 0 0 0 0 0 0 0 0 0 0 0 0 0 0 0 0 0 0 0 0 0 0 0 0 0 0\n",
            "  1 1 0 0 0 0 1 1 0 0 0 0 0 0]\n",
            " [0 0 0 0 0 0 0 0 0 0 0 0 0 0 0 0 0 0 0 0 0 0 0 0 0 0 0 0 0 0 0 0 0 0 0 0\n",
            "  1 0 0 0 0 0 0 0 0 0 0 0 0 0]\n",
            " [0 0 0 0 0 1 1 1 0 0 0 0 0 0 0 0 0 0 0 0 0 0 0 0 0 0 0 0 0 0 0 0 0 0 0 0\n",
            "  0 0 0 0 1 0 0 0 0 0 0 0 0 0]\n",
            " [0 0 0 0 0 0 0 0 0 0 0 0 0 0 0 0 0 0 0 0 0 0 0 0 0 0 0 0 0 0 0 0 0 0 0 0\n",
            "  0 0 1 1 1 1 0 0 0 0 0 0 0 0]\n",
            " [0 0 0 0 0 0 0 0 0 0 0 0 0 0 0 0 1 1 0 0 0 0 0 0 0 0 0 0 0 0 0 0 0 0 0 0\n",
            "  0 1 0 0 0 1 0 0 0 0 0 0 0 0]\n",
            " [0 0 0 0 0 0 0 0 0 0 0 0 0 0 0 0 1 1 0 0 0 0 0 0 0 0 0 0 0 0 0 0 0 0 0 0\n",
            "  0 1 0 0 1 0 0 0 0 0 0 0 0 0]\n",
            " [0 0 0 0 0 0 0 0 0 0 0 0 0 0 0 0 0 0 0 0 0 0 0 0 0 0 0 0 0 0 0 0 0 0 0 0\n",
            "  0 0 1 1 1 0 0 0 0 0 0 0 0 0]\n",
            " [0 0 0 0 0 0 0 0 0 0 0 0 0 0 0 0 0 0 0 0 0 0 0 0 0 0 1 1 0 0 0 0 0 0 0 0\n",
            "  0 0 0 0 0 0 0 0 0 0 0 0 0 0]\n",
            " [0 0 0 0 0 0 0 0 0 0 0 0 0 0 0 0 1 1 1 0 0 0 0 0 0 0 1 0 1 0 0 0 0 0 0 0\n",
            "  0 0 0 0 0 0 0 0 0 0 0 0 0 0]\n",
            " [0 0 0 0 0 0 0 0 0 0 0 0 0 0 0 0 0 0 0 0 0 0 0 0 0 0 0 1 0 0 0 0 0 0 0 0\n",
            "  0 0 0 0 0 0 0 0 0 0 0 0 0 0]\n",
            " [0 0 0 0 0 0 0 0 0 0 0 0 0 0 0 0 1 0 1 0 0 0 0 0 0 0 0 0 0 0 0 0 0 0 0 0\n",
            "  0 0 0 0 0 0 0 0 0 0 0 0 0 0]\n",
            " [0 0 0 0 0 0 0 0 0 0 0 0 0 0 0 0 0 1 0 0 0 0 0 0 0 0 0 0 0 0 0 0 0 0 0 0\n",
            "  0 0 0 0 0 0 0 0 0 0 0 0 0 0]\n",
            " [0 0 0 0 0 0 0 0 0 0 0 0 0 0 0 0 0 0 0 0 0 0 0 0 0 0 0 0 0 0 0 0 0 0 0 0\n",
            "  0 0 0 0 0 0 0 0 0 0 0 0 0 0]\n",
            " [0 0 0 0 0 0 0 0 0 0 0 0 0 0 0 0 0 0 0 0 0 0 0 0 0 0 0 0 0 0 0 0 0 0 0 0\n",
            "  0 0 0 0 0 0 0 0 0 0 0 0 0 0]\n",
            " [0 0 0 0 0 0 0 0 0 0 0 0 0 0 0 0 0 0 0 0 0 0 0 0 0 0 0 0 0 0 0 0 0 0 0 0\n",
            "  0 0 0 0 0 0 0 0 0 0 0 0 0 0]]\n"
          ]
        }
      ]
    },
    {
      "cell_type": "code",
      "source": [
        "#89\n",
        "# How to get the n largest values of an array\n",
        "Z = np.arange(10000)\n",
        "np.random.shuffle(Z)\n",
        "n = 5\n",
        "print (Z[np.argpartition(-Z,n)[:n]])"
      ],
      "metadata": {
        "colab": {
          "base_uri": "https://localhost:8080/"
        },
        "id": "E0Hsjgrm-wP8",
        "outputId": "8b685c40-d996-4381-f98f-619149e0b8e4"
      },
      "execution_count": 602,
      "outputs": [
        {
          "output_type": "stream",
          "name": "stdout",
          "text": [
            "[9999 9996 9997 9998 9995]\n"
          ]
        }
      ]
    },
    {
      "cell_type": "code",
      "source": [
        "#90\n",
        "# Given an arbitrary number of vectors, build the cartesian product (every combinations of every item) \n",
        "def cartesian(arrays):\n",
        "    arrays = [np.asarray(a) for a in arrays]\n",
        "    shape = (len(x) for x in arrays)\n",
        "    ix = np.indices(shape, dtype=int)\n",
        "    ix = ix.reshape(len(arrays), -1).T\n",
        "    for n, arr in enumerate(arrays):\n",
        "        ix[:, n] = arrays[n][ix[:, n]]\n",
        "    return ix\n",
        "print (cartesian(([1, 2, 3], [4, 5], [6, 7])))"
      ],
      "metadata": {
        "colab": {
          "base_uri": "https://localhost:8080/"
        },
        "id": "_z4gE-aU-wSQ",
        "outputId": "39b03ada-fee6-4a41-fa37-55d6f35d69ca"
      },
      "execution_count": 603,
      "outputs": [
        {
          "output_type": "stream",
          "name": "stdout",
          "text": [
            "[[1 4 6]\n",
            " [1 4 7]\n",
            " [1 5 6]\n",
            " [1 5 7]\n",
            " [2 4 6]\n",
            " [2 4 7]\n",
            " [2 5 6]\n",
            " [2 5 7]\n",
            " [3 4 6]\n",
            " [3 4 7]\n",
            " [3 5 6]\n",
            " [3 5 7]]\n"
          ]
        }
      ]
    },
    {
      "cell_type": "code",
      "source": [
        "#91\n",
        "#How to create a record array from a regular array?\n",
        "Z = np.array([(\"Hello\", 2.5, 3),\n",
        "              (\"World\", 3.6, 2)])\n",
        "R = np.core.records.fromarrays(Z.T, names='col1, col2, col3', formats = 'S8, f8, i8')\n",
        "print(R)"
      ],
      "metadata": {
        "colab": {
          "base_uri": "https://localhost:8080/"
        },
        "id": "aCq5AzhQ-wUd",
        "outputId": "275aed62-fcad-46f6-d95b-c5c449b03f09"
      },
      "execution_count": 604,
      "outputs": [
        {
          "output_type": "stream",
          "name": "stdout",
          "text": [
            "[(b'Hello', 2.5, 3) (b'World', 3.6, 2)]\n"
          ]
        }
      ]
    },
    {
      "cell_type": "code",
      "source": [
        "#92\n",
        "#Consider a large vector Z, compute Z to the power of 3 using 3 different methods\n",
        "x = np.random.rand(int(5e7))\n",
        "\n",
        "%timeit np.power(x,3)\n",
        "%timeit x*x*x\n",
        "%timeit np.einsum('i,i,i->i',x,x,x)"
      ],
      "metadata": {
        "colab": {
          "base_uri": "https://localhost:8080/"
        },
        "id": "im3DG7ER-wWp",
        "outputId": "7a260c31-0857-4147-8a11-8b3f98f3c3d7"
      },
      "execution_count": 605,
      "outputs": [
        {
          "output_type": "stream",
          "name": "stdout",
          "text": [
            "1 loop, best of 5: 3.73 s per loop\n",
            "10 loops, best of 5: 146 ms per loop\n",
            "10 loops, best of 5: 122 ms per loop\n"
          ]
        }
      ]
    },
    {
      "cell_type": "code",
      "source": [
        "#93\n",
        "#Consider two arrays A and B of shape (8,3) and (2,2). How to find rows of A that contain elements of each row of B regardless of the order of the elements in B?\n",
        "A = np.random.randint(0,5,(8,3))\n",
        "B = np.random.randint(0,5,(2,2))\n",
        "\n",
        "C = (A[..., np.newaxis, np.newaxis] == B)\n",
        "rows = np.where(C.any((3,1)).all(1))[0]\n",
        "print(rows)"
      ],
      "metadata": {
        "colab": {
          "base_uri": "https://localhost:8080/"
        },
        "id": "WgKOtZrE-wY8",
        "outputId": "639f5dd2-c7d3-43de-c314-2ee4024fb9cc"
      },
      "execution_count": 606,
      "outputs": [
        {
          "output_type": "stream",
          "name": "stdout",
          "text": [
            "[0 3 4 5 6 7]\n"
          ]
        }
      ]
    },
    {
      "cell_type": "code",
      "source": [
        "#94\n",
        "#Considering a 10x3 matrix, extract rows with unequal values (e.g. [2,2,3])\n",
        "A = np.random.randint(0,5,(10,3))\n",
        "E = np.all(A[:,1:] == A[:,:-1], axis=1)\n",
        "U = A[~E]\n",
        "print(U)"
      ],
      "metadata": {
        "colab": {
          "base_uri": "https://localhost:8080/"
        },
        "id": "Pj9YmDcx-wbd",
        "outputId": "e81565b4-8097-403f-d75f-d2cdaada0135"
      },
      "execution_count": 607,
      "outputs": [
        {
          "output_type": "stream",
          "name": "stdout",
          "text": [
            "[[0 2 3]\n",
            " [2 1 4]\n",
            " [4 1 2]\n",
            " [1 3 3]\n",
            " [3 2 1]\n",
            " [0 3 4]\n",
            " [4 1 3]\n",
            " [0 3 1]\n",
            " [2 1 0]]\n"
          ]
        }
      ]
    },
    {
      "cell_type": "code",
      "source": [
        "#95\n",
        "#Convert a vector of ints into a matrix binary representation\n",
        "B = ((np.array([0, 1, 2, 3, 15, 16, 32, 64, 128]).reshape(-1,1) & (2**np.arange(8))) != 0).astype(int)\n",
        "print(B[:,::-1])"
      ],
      "metadata": {
        "colab": {
          "base_uri": "https://localhost:8080/"
        },
        "id": "rROK9EfE-wdf",
        "outputId": "d5db6015-1998-4906-d9a5-9eaa99c81494"
      },
      "execution_count": 608,
      "outputs": [
        {
          "output_type": "stream",
          "name": "stdout",
          "text": [
            "[[0 0 0 0 0 0 0 0]\n",
            " [0 0 0 0 0 0 0 1]\n",
            " [0 0 0 0 0 0 1 0]\n",
            " [0 0 0 0 0 0 1 1]\n",
            " [0 0 0 0 1 1 1 1]\n",
            " [0 0 0 1 0 0 0 0]\n",
            " [0 0 1 0 0 0 0 0]\n",
            " [0 1 0 0 0 0 0 0]\n",
            " [1 0 0 0 0 0 0 0]]\n"
          ]
        }
      ]
    },
    {
      "cell_type": "code",
      "source": [
        "#96\n",
        "#Given a two dimensional array, how to extract unique rows?\n",
        "T = np.ascontiguousarray(np.random.randint(0,2,(6,3))).view(np.dtype((np.void, np.random.randint(0,2,(6,3)).dtype.itemsize * np.random.randint(0,2,(6,3)).shape[1])))\n",
        "a, idx = np.unique(T, return_index=True)\n",
        "p = np.random.randint(0,2,(6,3))[idx]\n",
        "print(p)"
      ],
      "metadata": {
        "colab": {
          "base_uri": "https://localhost:8080/"
        },
        "id": "uZdzVlIS-wf9",
        "outputId": "133f4fe2-de6f-44f6-bf58-63ade1a04f12"
      },
      "execution_count": 609,
      "outputs": [
        {
          "output_type": "stream",
          "name": "stdout",
          "text": [
            "[[1 1 1]\n",
            " [0 1 0]\n",
            " [1 0 0]]\n"
          ]
        }
      ]
    },
    {
      "cell_type": "code",
      "source": [
        "#97\n",
        "#Considering 2 vectors A & B, write the einsum equivalent of inner, outer, sum, and mul function\n",
        "A = np.random.uniform(0,1,10)\n",
        "B = np.random.uniform(0,1,10)\n",
        "\n",
        "np.einsum('i->', A)      \n",
        "np.einsum('i,i->i', A, B) \n",
        "np.einsum('i,i', A, B)    \n",
        "np.einsum('i,j->ij', A, B)  "
      ],
      "metadata": {
        "colab": {
          "base_uri": "https://localhost:8080/"
        },
        "id": "5LIxUHMK-wii",
        "outputId": "0a9f37e2-dc6c-4264-ef40-c845d682ce07"
      },
      "execution_count": 610,
      "outputs": [
        {
          "output_type": "execute_result",
          "data": {
            "text/plain": [
              "array([[0.3741034 , 0.2198632 , 0.1496465 , 0.49986818, 0.7921938 ,\n",
              "        0.83585663, 0.92074563, 0.66689881, 0.16035259, 0.10542066],\n",
              "       [0.0839835 , 0.04935769, 0.03359455, 0.11221678, 0.17784176,\n",
              "        0.18764374, 0.20670071, 0.14971394, 0.03599799, 0.02366617],\n",
              "       [0.08058699, 0.04736154, 0.0322359 , 0.10767844, 0.17064938,\n",
              "        0.18005495, 0.1983412 , 0.14365913, 0.03454214, 0.02270905],\n",
              "       [0.20067057, 0.11793551, 0.08027099, 0.2681313 , 0.42493595,\n",
              "        0.44835686, 0.49389167, 0.35772721, 0.08601378, 0.05654807],\n",
              "       [0.20371806, 0.11972654, 0.08149002, 0.27220328, 0.43138924,\n",
              "        0.45516584, 0.50139216, 0.36315984, 0.08732003, 0.05740684],\n",
              "       [0.3022397 , 0.1776284 , 0.12090004, 0.40384559, 0.64001668,\n",
              "        0.67529206, 0.74387425, 0.53879034, 0.12954953, 0.0851698 ],\n",
              "       [0.20294831, 0.11927415, 0.08118212, 0.27117477, 0.42975925,\n",
              "        0.45344601, 0.49949766, 0.36178765, 0.08699009, 0.05718993],\n",
              "       [0.0203753 , 0.01197471, 0.0081504 , 0.027225  , 0.04314632,\n",
              "        0.04552439, 0.05014781, 0.03632221, 0.0087335 , 0.00574167],\n",
              "       [0.11184083, 0.06572964, 0.04473787, 0.14943909, 0.23683188,\n",
              "        0.24988519, 0.27526335, 0.19937406, 0.04793853, 0.03151624],\n",
              "       [0.39240857, 0.23062128, 0.15696882, 0.52432711, 0.83095646,\n",
              "        0.87675574, 0.96579843, 0.69953069, 0.16819877, 0.11057898]])"
            ]
          },
          "metadata": {},
          "execution_count": 610
        }
      ]
    },
    {
      "cell_type": "code",
      "source": [
        "#98\n",
        "#Considering a path described by two vectors (X,Y), how to sample it using equidistant samples\n",
        "phi = np.arange(0, 10*np.pi, 0.1)\n",
        "a = 1\n",
        "x = a*phi*np.cos(phi)\n",
        "y = a*phi*np.sin(phi)\n",
        "\n",
        "dr = (np.diff(x)**2 + np.diff(y)**2)**.5 \n",
        "r = np.zeros_like(x)\n",
        "r[1:] = np.cumsum(dr)                \n",
        "r_int = np.linspace(0, r.max(), 200) \n",
        "x_int = np.interp(r_int, r, x)       \n",
        "y_int = np.interp(r_int, r, y)"
      ],
      "metadata": {
        "id": "uCmKHdqs-wmE"
      },
      "execution_count": 611,
      "outputs": []
    },
    {
      "cell_type": "code",
      "source": [
        "#99\n",
        "#Given an integer n and a 2D array X, select from X the rows which can be interpreted as draws from a multinomial distribution with n degrees, i.e., the rows which only contain integers and which sum to n.\n",
        "X = np.asarray([[1.0, 0.0, 3.0, 8.0], [2.0, 0.0, 1.0, 1.0], [1.5, 2.5, 1.0, 0.0]])\n",
        "n = 4\n",
        "M = np.logical_and.reduce(np.mod(X, 1) == 0, axis=-1)\n",
        "M &= (X.sum(axis=-1) == n)\n",
        "print(X[M])"
      ],
      "metadata": {
        "colab": {
          "base_uri": "https://localhost:8080/"
        },
        "id": "BqaGqf-f_GOs",
        "outputId": "9b84c5f7-c8e8-406a-82d3-8e8c3b10154c"
      },
      "execution_count": 612,
      "outputs": [
        {
          "output_type": "stream",
          "name": "stdout",
          "text": [
            "[[2. 0. 1. 1.]]\n"
          ]
        }
      ]
    },
    {
      "cell_type": "code",
      "source": [
        "#100\n",
        "#Compute bootstrapped 95% confidence intervals for the mean of a 1D array X (i.e., resample the elements of an array with replacement N times, compute the mean of each sample, and then compute percentiles over the means).\n",
        "A = np.random.randn(100) \n",
        "idx = np.random.randint(0, A.size, (1000, A.size))\n",
        "means = A[idx].mean(axis=1)\n",
        "confint = np.percentile(means, [2.5, 97.5])\n",
        "print(confint)"
      ],
      "metadata": {
        "colab": {
          "base_uri": "https://localhost:8080/"
        },
        "id": "sKGnCLk-_GSL",
        "outputId": "430f19d9-db61-4994-c364-fdfa4f257e15"
      },
      "execution_count": 613,
      "outputs": [
        {
          "output_type": "stream",
          "name": "stdout",
          "text": [
            "[-0.30564988  0.05728395]\n"
          ]
        }
      ]
    }
  ]
}